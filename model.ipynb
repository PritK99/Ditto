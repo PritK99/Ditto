{
  "nbformat": 4,
  "nbformat_minor": 0,
  "metadata": {
    "colab": {
      "provenance": [],
      "collapsed_sections": [
        "EzRlaL4XjqtH",
        "yxdhssnejvWb",
        "ur7P3Epdjzmi",
        "3D0sxREbi_g-"
      ],
      "gpuType": "T4"
    },
    "kernelspec": {
      "name": "python3",
      "display_name": "Python 3"
    },
    "language_info": {
      "name": "python"
    },
    "accelerator": "GPU"
  },
  "cells": [
    {
      "cell_type": "code",
      "source": [
        "!pip install jiwer\n",
        "!pip install torchmetrics"
      ],
      "metadata": {
        "colab": {
          "base_uri": "https://localhost:8080/"
        },
        "id": "0D9edcHV-Lja",
        "outputId": "af6d2c61-61db-4b40-924e-7382b49aa885"
      },
      "execution_count": null,
      "outputs": [
        {
          "output_type": "stream",
          "name": "stdout",
          "text": [
            "Collecting jiwer\n",
            "  Downloading jiwer-4.0.0-py3-none-any.whl.metadata (3.3 kB)\n",
            "Requirement already satisfied: click>=8.1.8 in /usr/local/lib/python3.12/dist-packages (from jiwer) (8.2.1)\n",
            "Collecting rapidfuzz>=3.9.7 (from jiwer)\n",
            "  Downloading rapidfuzz-3.14.1-cp312-cp312-manylinux_2_27_x86_64.manylinux_2_28_x86_64.whl.metadata (12 kB)\n",
            "Downloading jiwer-4.0.0-py3-none-any.whl (23 kB)\n",
            "Downloading rapidfuzz-3.14.1-cp312-cp312-manylinux_2_27_x86_64.manylinux_2_28_x86_64.whl (3.2 MB)\n",
            "\u001b[2K   \u001b[90m━━━━━━━━━━━━━━━━━━━━━━━━━━━━━━━━━━━━━━━━\u001b[0m \u001b[32m3.2/3.2 MB\u001b[0m \u001b[31m52.2 MB/s\u001b[0m eta \u001b[36m0:00:00\u001b[0m\n",
            "\u001b[?25hInstalling collected packages: rapidfuzz, jiwer\n",
            "Successfully installed jiwer-4.0.0 rapidfuzz-3.14.1\n",
            "Collecting torchmetrics\n",
            "  Downloading torchmetrics-1.8.2-py3-none-any.whl.metadata (22 kB)\n",
            "Requirement already satisfied: numpy>1.20.0 in /usr/local/lib/python3.12/dist-packages (from torchmetrics) (2.0.2)\n",
            "Requirement already satisfied: packaging>17.1 in /usr/local/lib/python3.12/dist-packages (from torchmetrics) (25.0)\n",
            "Requirement already satisfied: torch>=2.0.0 in /usr/local/lib/python3.12/dist-packages (from torchmetrics) (2.8.0+cu126)\n",
            "Collecting lightning-utilities>=0.8.0 (from torchmetrics)\n",
            "  Downloading lightning_utilities-0.15.2-py3-none-any.whl.metadata (5.7 kB)\n",
            "Requirement already satisfied: setuptools in /usr/local/lib/python3.12/dist-packages (from lightning-utilities>=0.8.0->torchmetrics) (75.2.0)\n",
            "Requirement already satisfied: typing_extensions in /usr/local/lib/python3.12/dist-packages (from lightning-utilities>=0.8.0->torchmetrics) (4.15.0)\n",
            "Requirement already satisfied: filelock in /usr/local/lib/python3.12/dist-packages (from torch>=2.0.0->torchmetrics) (3.19.1)\n",
            "Requirement already satisfied: sympy>=1.13.3 in /usr/local/lib/python3.12/dist-packages (from torch>=2.0.0->torchmetrics) (1.13.3)\n",
            "Requirement already satisfied: networkx in /usr/local/lib/python3.12/dist-packages (from torch>=2.0.0->torchmetrics) (3.5)\n",
            "Requirement already satisfied: jinja2 in /usr/local/lib/python3.12/dist-packages (from torch>=2.0.0->torchmetrics) (3.1.6)\n",
            "Requirement already satisfied: fsspec in /usr/local/lib/python3.12/dist-packages (from torch>=2.0.0->torchmetrics) (2025.3.0)\n",
            "Requirement already satisfied: nvidia-cuda-nvrtc-cu12==12.6.77 in /usr/local/lib/python3.12/dist-packages (from torch>=2.0.0->torchmetrics) (12.6.77)\n",
            "Requirement already satisfied: nvidia-cuda-runtime-cu12==12.6.77 in /usr/local/lib/python3.12/dist-packages (from torch>=2.0.0->torchmetrics) (12.6.77)\n",
            "Requirement already satisfied: nvidia-cuda-cupti-cu12==12.6.80 in /usr/local/lib/python3.12/dist-packages (from torch>=2.0.0->torchmetrics) (12.6.80)\n",
            "Requirement already satisfied: nvidia-cudnn-cu12==9.10.2.21 in /usr/local/lib/python3.12/dist-packages (from torch>=2.0.0->torchmetrics) (9.10.2.21)\n",
            "Requirement already satisfied: nvidia-cublas-cu12==12.6.4.1 in /usr/local/lib/python3.12/dist-packages (from torch>=2.0.0->torchmetrics) (12.6.4.1)\n",
            "Requirement already satisfied: nvidia-cufft-cu12==11.3.0.4 in /usr/local/lib/python3.12/dist-packages (from torch>=2.0.0->torchmetrics) (11.3.0.4)\n",
            "Requirement already satisfied: nvidia-curand-cu12==10.3.7.77 in /usr/local/lib/python3.12/dist-packages (from torch>=2.0.0->torchmetrics) (10.3.7.77)\n",
            "Requirement already satisfied: nvidia-cusolver-cu12==11.7.1.2 in /usr/local/lib/python3.12/dist-packages (from torch>=2.0.0->torchmetrics) (11.7.1.2)\n",
            "Requirement already satisfied: nvidia-cusparse-cu12==12.5.4.2 in /usr/local/lib/python3.12/dist-packages (from torch>=2.0.0->torchmetrics) (12.5.4.2)\n",
            "Requirement already satisfied: nvidia-cusparselt-cu12==0.7.1 in /usr/local/lib/python3.12/dist-packages (from torch>=2.0.0->torchmetrics) (0.7.1)\n",
            "Requirement already satisfied: nvidia-nccl-cu12==2.27.3 in /usr/local/lib/python3.12/dist-packages (from torch>=2.0.0->torchmetrics) (2.27.3)\n",
            "Requirement already satisfied: nvidia-nvtx-cu12==12.6.77 in /usr/local/lib/python3.12/dist-packages (from torch>=2.0.0->torchmetrics) (12.6.77)\n",
            "Requirement already satisfied: nvidia-nvjitlink-cu12==12.6.85 in /usr/local/lib/python3.12/dist-packages (from torch>=2.0.0->torchmetrics) (12.6.85)\n",
            "Requirement already satisfied: nvidia-cufile-cu12==1.11.1.6 in /usr/local/lib/python3.12/dist-packages (from torch>=2.0.0->torchmetrics) (1.11.1.6)\n",
            "Requirement already satisfied: triton==3.4.0 in /usr/local/lib/python3.12/dist-packages (from torch>=2.0.0->torchmetrics) (3.4.0)\n",
            "Requirement already satisfied: mpmath<1.4,>=1.1.0 in /usr/local/lib/python3.12/dist-packages (from sympy>=1.13.3->torch>=2.0.0->torchmetrics) (1.3.0)\n",
            "Requirement already satisfied: MarkupSafe>=2.0 in /usr/local/lib/python3.12/dist-packages (from jinja2->torch>=2.0.0->torchmetrics) (3.0.2)\n",
            "Downloading torchmetrics-1.8.2-py3-none-any.whl (983 kB)\n",
            "\u001b[2K   \u001b[90m━━━━━━━━━━━━━━━━━━━━━━━━━━━━━━━━━━━━━━━━\u001b[0m \u001b[32m983.2/983.2 kB\u001b[0m \u001b[31m20.8 MB/s\u001b[0m eta \u001b[36m0:00:00\u001b[0m\n",
            "\u001b[?25hDownloading lightning_utilities-0.15.2-py3-none-any.whl (29 kB)\n",
            "Installing collected packages: lightning-utilities, torchmetrics\n",
            "Successfully installed lightning-utilities-0.15.2 torchmetrics-1.8.2\n"
          ]
        }
      ]
    },
    {
      "cell_type": "code",
      "source": [
        "import torch\n",
        "from torch.utils.data import Dataset, DataLoader\n",
        "from torch.nn.utils.rnn import pad_sequence\n",
        "import ast\n",
        "from collections import Counter\n",
        "from typing import List, Dict, Tuple\n",
        "import random"
      ],
      "metadata": {
        "id": "Yv1Q78nV5RFs"
      },
      "execution_count": null,
      "outputs": []
    },
    {
      "cell_type": "markdown",
      "source": [
        "# Preprocessing"
      ],
      "metadata": {
        "id": "EzRlaL4XjqtH"
      }
    },
    {
      "cell_type": "code",
      "source": [
        "import re\n",
        "import json\n",
        "import random\n",
        "from pathlib import Path\n",
        "\n",
        "# Operators and punctuation (multi-char first)\n",
        "MULTI_CHAR_OPS = [\n",
        "    '==', '!=', '<=', '>=', '++', '--', '+=', '-=', '*=', '/=', '%=', '&&', '||', '<<', '>>', '->', '::', '...'\n",
        "]\n",
        "# Single char symbols\n",
        "SINGLE_CHAR_SYMS = list(\"#{}()[].,;<>+-*/=%&|^~!:?\")\n",
        "\n",
        "# Build regex pattern\n",
        "# 1. String literals\n",
        "# 2. Multi-char ops\n",
        "# 3. Single-char symbols\n",
        "# 4. Identifiers\n",
        "# 5. Numbers\n",
        "TOKEN_PATTERN = re.compile(\n",
        "    r'''\n",
        "    \"(?:[^\"\\\\]|\\\\.)*\"             |   # double-quoted string literals\n",
        "    '(?:[^'\\\\]|\\\\.)*'             |   # single-quoted char literals\n",
        "    ''' + '|'.join(re.escape(op) for op in MULTI_CHAR_OPS) + r''' |   # multi-char operators\n",
        "    [''' + re.escape(''.join(SINGLE_CHAR_SYMS)) + r'''] |             # single-char symbols\n",
        "    [A-Za-z_]\\w*                  |   # identifiers\n",
        "    \\d+(?:\\.\\d+)?                     # numbers\n",
        "    ''', re.VERBOSE\n",
        ")\n",
        "\n",
        "# Regex to remove comments\n",
        "LINE_COMMENT = re.compile(r'//.*')\n",
        "BLOCK_COMMENT = re.compile(r'/\\*.*?\\*/', re.DOTALL)\n",
        "\n",
        "def tokenize_code_line(line: str):\n",
        "    # Remove comments\n",
        "    line = BLOCK_COMMENT.sub('', line)\n",
        "    line = LINE_COMMENT.sub('', line)\n",
        "\n",
        "    # Replace escaped newlines/tabs with space\n",
        "    line = line.replace(\"\\\\n\", \" \").replace(\"\\\\t\", \" \").replace(\"\\\\r\", \" \")\n",
        "\n",
        "    # Collapse multiple spaces\n",
        "    line = re.sub(r'\\s+', ' ', line).strip()\n",
        "    if not line:\n",
        "        return []\n",
        "\n",
        "    # Find tokens\n",
        "    tokens = [m.group(0) for m in TOKEN_PATTERN.finditer(line)]\n",
        "    return tokens\n",
        "\n",
        "def process_file(input_path: Path, output_path: Path):\n",
        "    tokenized_lines = []\n",
        "    with input_path.open(\"r\", encoding=\"utf-8\") as f:\n",
        "        for line in f:\n",
        "            tokens = tokenize_code_line(line)\n",
        "            if tokens:\n",
        "                tokenized_lines.append(tokens)\n",
        "\n",
        "    with output_path.open(\"w\", encoding=\"utf-8\") as f:\n",
        "        for tokens in tokenized_lines:\n",
        "            f.write(json.dumps(tokens) + \"\\n\")\n",
        "\n",
        "    return tokenized_lines\n",
        "\n",
        "def split_and_save(token_lists, base_name: str, train_ratio=0.8, val_ratio=0.1):\n",
        "    random.shuffle(token_lists)\n",
        "    n = len(token_lists)\n",
        "    train_end = int(n * train_ratio)\n",
        "    val_end = int(n * (train_ratio + val_ratio))\n",
        "    splits = {\n",
        "        'train': token_lists[:train_end],\n",
        "        'val': token_lists[train_end:val_end],\n",
        "        'test': token_lists[val_end:]\n",
        "    }\n",
        "\n",
        "    for split_name, data in splits.items():\n",
        "        path = f\"{base_name}_{split_name}.txt\"\n",
        "        with open(path, \"w\", encoding=\"utf-8\") as f:\n",
        "            for tokens in data:\n",
        "                f.write(json.dumps(tokens) + \"\\n\")\n",
        "\n",
        "if __name__ == \"__main__\":\n",
        "    # Input files\n",
        "    c_tokens = process_file(Path(\"unpaired_c.txt\"), Path(\"c_processed.txt\"))\n",
        "    cpp_tokens = process_file(Path(\"unpaired_c++.txt\"), Path(\"cpp_processed.txt\"))\n",
        "\n",
        "    # Create train/val/test splits\n",
        "    split_and_save(c_tokens, \"c_code\")\n",
        "    split_and_save(cpp_tokens, \"cpp_code\")\n",
        "\n",
        "    print(\"✅ Done! Tokenized long code lines correctly and created train/val/test splits.\")"
      ],
      "metadata": {
        "colab": {
          "base_uri": "https://localhost:8080/"
        },
        "id": "-gyYKSqnIYW9",
        "outputId": "4229e9e1-372a-4aaf-ac49-f573b6c0bb02"
      },
      "execution_count": null,
      "outputs": [
        {
          "output_type": "stream",
          "name": "stdout",
          "text": [
            "✅ Done! Tokenized long code lines correctly and created train/val/test splits.\n"
          ]
        }
      ]
    },
    {
      "cell_type": "markdown",
      "source": [
        "# Metrics"
      ],
      "metadata": {
        "id": "yxdhssnejvWb"
      }
    },
    {
      "cell_type": "code",
      "source": [
        "from torchmetrics.text import BLEUScore\n",
        "from jiwer import wer, cer\n",
        "\n",
        "class MetricsCalculator:\n",
        "    \"\"\"\n",
        "    Calculate BLEU, CER, and WER metrics for sequence reconstruction.\n",
        "    \"\"\"\n",
        "    def __init__(self, idx_to_token: Dict[int, str], pad_idx: int = 0):\n",
        "        self.idx_to_token = idx_to_token\n",
        "        self.pad_idx = pad_idx\n",
        "\n",
        "        # Initialize BLEU calculator\n",
        "        self.bleu_calculator = BLEUScore(n_gram=4)\n",
        "\n",
        "    def indices_to_tokens(self, indices: torch.Tensor) -> List[List[str]]:\n",
        "        \"\"\"\n",
        "        Convert token indices to list of token strings.\n",
        "\n",
        "        Args:\n",
        "            indices: (batch_size, seq_len)\n",
        "\n",
        "        Returns:\n",
        "            List of token lists for each sequence\n",
        "        \"\"\"\n",
        "        batch_sequences = []\n",
        "        for seq in indices:\n",
        "            tokens = []\n",
        "            for idx in seq:\n",
        "                idx_val = idx.item()\n",
        "                if idx_val != self.pad_idx:  # Skip padding\n",
        "                    tokens.append(self.idx_to_token.get(idx_val, '<UNK>'))\n",
        "            batch_sequences.append(tokens)\n",
        "        return batch_sequences\n",
        "\n",
        "    def tokens_to_string(self, tokens: List[str]) -> str:\n",
        "        \"\"\"Join tokens into a single string.\"\"\"\n",
        "        return ' '.join(tokens)\n",
        "\n",
        "    def calculate_bleu(self, predictions: torch.Tensor, targets: torch.Tensor) -> float:\n",
        "        \"\"\"\n",
        "        Calculate BLEU score.\n",
        "\n",
        "        Args:\n",
        "            predictions: (batch_size, seq_len) - predicted token indices\n",
        "            targets: (batch_size, seq_len) - target token indices\n",
        "\n",
        "        Returns:\n",
        "            BLEU score (0-1)\n",
        "        \"\"\"\n",
        "        # Convert indices to tokens\n",
        "        pred_tokens = self.indices_to_tokens(predictions)\n",
        "        target_tokens = self.indices_to_tokens(targets)\n",
        "\n",
        "        # Convert to strings for BLEU calculation\n",
        "        pred_strings = [self.tokens_to_string(tokens) for tokens in pred_tokens]\n",
        "        target_strings = [[self.tokens_to_string(tokens)] for tokens in target_tokens]\n",
        "\n",
        "        # Calculate BLEU\n",
        "        try:\n",
        "            bleu_score = self.bleu_calculator(pred_strings, target_strings)\n",
        "            return bleu_score.item()\n",
        "        except:\n",
        "            return 0.0\n",
        "\n",
        "    def calculate_cer(self, predictions: torch.Tensor, targets: torch.Tensor) -> float:\n",
        "        \"\"\"\n",
        "        Calculate Character Error Rate (CER).\n",
        "\n",
        "        Args:\n",
        "            predictions: (batch_size, seq_len) - predicted token indices\n",
        "            targets: (batch_size, seq_len) - target token indices\n",
        "\n",
        "        Returns:\n",
        "            CER score (lower is better, 0 is perfect)\n",
        "        \"\"\"\n",
        "        # Convert indices to tokens\n",
        "        pred_tokens = self.indices_to_tokens(predictions)\n",
        "        target_tokens = self.indices_to_tokens(targets)\n",
        "\n",
        "        # Convert to strings\n",
        "        pred_strings = [self.tokens_to_string(tokens) for tokens in pred_tokens]\n",
        "        target_strings = [self.tokens_to_string(tokens) for tokens in target_tokens]\n",
        "\n",
        "        # Calculate CER for each pair and average\n",
        "        try:\n",
        "            cer_scores = []\n",
        "            for pred, target in zip(pred_strings, target_strings):\n",
        "                if len(target) > 0:  # Avoid empty references\n",
        "                    cer_score = cer(target, pred)\n",
        "                    cer_scores.append(cer_score)\n",
        "\n",
        "            return np.mean(cer_scores) if cer_scores else 0.0\n",
        "        except:\n",
        "            return 0.0\n",
        "\n",
        "    def calculate_wer(self, predictions: torch.Tensor, targets: torch.Tensor) -> float:\n",
        "        \"\"\"\n",
        "        Calculate Word Error Rate (WER).\n",
        "\n",
        "        Args:\n",
        "            predictions: (batch_size, seq_len) - predicted token indices\n",
        "            targets: (batch_size, seq_len) - target token indices\n",
        "\n",
        "        Returns:\n",
        "            WER score (lower is better, 0 is perfect)\n",
        "        \"\"\"\n",
        "        # Convert indices to tokens\n",
        "        pred_tokens = self.indices_to_tokens(predictions)\n",
        "        target_tokens = self.indices_to_tokens(targets)\n",
        "\n",
        "        # Convert to strings\n",
        "        pred_strings = [self.tokens_to_string(tokens) for tokens in pred_tokens]\n",
        "        target_strings = [self.tokens_to_string(tokens) for tokens in target_tokens]\n",
        "\n",
        "        # Calculate WER for each pair and average\n",
        "        try:\n",
        "            wer_scores = []\n",
        "            for pred, target in zip(pred_strings, target_strings):\n",
        "                if len(target.split()) > 0:  # Avoid empty references\n",
        "                    wer_score = wer(target, pred)\n",
        "                    wer_scores.append(wer_score)\n",
        "\n",
        "            return np.mean(wer_scores) if wer_scores else 0.0\n",
        "        except:\n",
        "            return 0.0\n",
        "\n",
        "    def calculate_all_metrics(self, predictions: torch.Tensor, targets: torch.Tensor) -> Dict[str, float]:\n",
        "        \"\"\"\n",
        "        Calculate all metrics (BLEU, CER, WER).\n",
        "\n",
        "        Args:\n",
        "            predictions: (batch_size, seq_len) - predicted token indices\n",
        "            targets: (batch_size, seq_len) - target token indices\n",
        "\n",
        "        Returns:\n",
        "            Dictionary with all metrics\n",
        "        \"\"\"\n",
        "        return {\n",
        "            'bleu': self.calculate_bleu(predictions, targets),\n",
        "            'cer': self.calculate_cer(predictions, targets),\n",
        "            'wer': self.calculate_wer(predictions, targets)\n",
        "        }"
      ],
      "metadata": {
        "id": "UhreQTG59_No"
      },
      "execution_count": null,
      "outputs": []
    },
    {
      "cell_type": "markdown",
      "source": [
        "# Model"
      ],
      "metadata": {
        "id": "ur7P3Epdjzmi"
      }
    },
    {
      "cell_type": "code",
      "source": [
        "import torch\n",
        "import torch.nn as nn\n",
        "import torch.nn.functional as F\n",
        "import math\n",
        "\n",
        "class Encoder(nn.Module):\n",
        "    \"\"\"Transformer Encoder using PyTorch's built-in TransformerEncoder.\"\"\"\n",
        "\n",
        "    def __init__(self, vocab_size, d_model=512, nhead=8, num_layers=6,\n",
        "                 dim_feedforward=2048, dropout=0.1, max_len=5000):\n",
        "        super().__init__()\n",
        "\n",
        "        self.d_model = d_model\n",
        "        self.embedding = nn.Embedding(vocab_size, d_model)\n",
        "        self.pos_encoder = PositionalEncoding(d_model, max_len)\n",
        "\n",
        "        # Using PyTorch's built-in TransformerEncoderLayer\n",
        "        encoder_layer = nn.TransformerEncoderLayer(\n",
        "            d_model=d_model,\n",
        "            nhead=nhead,\n",
        "            dim_feedforward=dim_feedforward,\n",
        "            dropout=dropout,\n",
        "            batch_first=True\n",
        "        )\n",
        "\n",
        "        # Stack multiple encoder layers\n",
        "        self.transformer_encoder = nn.TransformerEncoder(encoder_layer, num_layers)\n",
        "        self.dropout = nn.Dropout(dropout)\n",
        "\n",
        "    def forward(self, src, src_mask=None, src_key_padding_mask=None):\n",
        "        \"\"\"\n",
        "        Args:\n",
        "            src: (batch_size, seq_len)\n",
        "            src_mask: (seq_len, seq_len) - attention mask\n",
        "            src_key_padding_mask: (batch_size, seq_len) - padding mask\n",
        "        \"\"\"\n",
        "        # Embedding with scaling\n",
        "        src = self.embedding(src) * math.sqrt(self.d_model)\n",
        "\n",
        "        # Add positional encoding\n",
        "        src = src.transpose(0, 1)  # (seq_len, batch_size, d_model)\n",
        "        src = self.pos_encoder(src)\n",
        "        src = src.transpose(0, 1)  # Back to (batch_size, seq_len, d_model)\n",
        "        src = self.dropout(src)\n",
        "\n",
        "        # Pass through transformer encoder\n",
        "        output = self.transformer_encoder(\n",
        "            src,\n",
        "            mask=src_mask,\n",
        "            src_key_padding_mask=src_key_padding_mask\n",
        "        )\n",
        "\n",
        "        return output\n",
        "\n",
        "class Decoder(nn.Module):\n",
        "    \"\"\"Transformer Decoder using PyTorch's built-in TransformerDecoder.\"\"\"\n",
        "\n",
        "    def __init__(self, vocab_size, d_model=512, nhead=8, num_layers=6, dim_feedforward=2048, dropout=0.1, max_len=5000):\n",
        "        super().__init__()\n",
        "\n",
        "        self.d_model = d_model\n",
        "        self.embedding = nn.Embedding(vocab_size, d_model)\n",
        "        self.pos_encoder = PositionalEncoding(d_model, max_len)\n",
        "\n",
        "        # Using PyTorch's built-in TransformerDecoderLayer\n",
        "        decoder_layer = nn.TransformerDecoderLayer(\n",
        "            d_model=d_model,\n",
        "            nhead=nhead,\n",
        "            dim_feedforward=dim_feedforward,\n",
        "            dropout=dropout,\n",
        "            batch_first=True\n",
        "        )\n",
        "\n",
        "        # Stack multiple decoder layers\n",
        "        self.transformer_decoder = nn.TransformerDecoder(decoder_layer, num_layers)\n",
        "        self.dropout = nn.Dropout(dropout)\n",
        "        self.output_projection = nn.Linear(d_model, vocab_size)\n",
        "\n",
        "    def forward(self, tgt, memory, tgt_mask=None, memory_mask=None, tgt_key_padding_mask=None, memory_key_padding_mask=None):\n",
        "        \"\"\"\n",
        "        Args:\n",
        "            tgt: (batch_size, tgt_seq_len)\n",
        "            memory: (batch_size, src_seq_len, d_model) - encoder output\n",
        "            tgt_mask: (tgt_seq_len, tgt_seq_len) - causal mask\n",
        "            memory_mask: (tgt_seq_len, src_seq_len) - cross attention mask\n",
        "            tgt_key_padding_mask: (batch_size, tgt_seq_len) - target padding mask\n",
        "            memory_key_padding_mask: (batch_size, src_seq_len) - source padding mask\n",
        "        \"\"\"\n",
        "        # Embedding with scaling\n",
        "        tgt = self.embedding(tgt) * math.sqrt(self.d_model)\n",
        "\n",
        "        # Add positional encoding\n",
        "        tgt = tgt.transpose(0, 1)  # (seq_len, batch_size, d_model)\n",
        "        tgt = self.pos_encoder(tgt)\n",
        "        tgt = tgt.transpose(0, 1)  # Back to (batch_size, seq_len, d_model)\n",
        "        tgt = self.dropout(tgt)\n",
        "\n",
        "        # Pass through transformer decoder\n",
        "        output = self.transformer_decoder(\n",
        "            tgt=tgt,\n",
        "            memory=memory,\n",
        "            tgt_mask=tgt_mask,\n",
        "            memory_mask=memory_mask,\n",
        "            tgt_key_padding_mask=tgt_key_padding_mask,\n",
        "            memory_key_padding_mask=memory_key_padding_mask\n",
        "        )\n",
        "\n",
        "        # Project to vocabulary size\n",
        "        output = self.output_projection(output)\n",
        "\n",
        "        return output\n",
        "\n",
        "\n",
        "class Model1(nn.Module):\n",
        "    def __init__(self, src_vocab_size, tgt_vocab_size, d_model=512, nhead=8,\n",
        "                 num_encoder_layers=6, num_decoder_layers=6, dim_feedforward=2048,\n",
        "                 dropout=0.1, max_len=5000):\n",
        "        super().__init__()\n",
        "\n",
        "        self.encoder = Encoder(\n",
        "            vocab_size=src_vocab_size,\n",
        "            d_model=d_model,\n",
        "            nhead=nhead,\n",
        "            num_layers=num_encoder_layers,\n",
        "            dim_feedforward=dim_feedforward,\n",
        "            dropout=dropout,\n",
        "            max_len=max_len\n",
        "        )\n",
        "\n",
        "        self.decoder1 = Decoder(\n",
        "            vocab_size=tgt_vocab_size,\n",
        "            d_model=d_model,\n",
        "            nhead=nhead,\n",
        "            num_layers=num_decoder_layers,\n",
        "            dim_feedforward=dim_feedforward,\n",
        "            dropout=dropout,\n",
        "            max_len=max_len\n",
        "        )\n",
        "\n",
        "\n",
        "        self.decoder2 = Decoder(\n",
        "            vocab_size=tgt_vocab_size,\n",
        "            d_model=d_model,\n",
        "            nhead=nhead,\n",
        "            num_layers=num_decoder_layers,\n",
        "            dim_feedforward=dim_feedforward,\n",
        "            dropout=dropout,\n",
        "            max_len=max_len\n",
        "        )\n",
        "\n",
        "    def forward(self, src, tgt, flag, src_mask=None, tgt_mask=None, memory_mask=None, src_key_padding_mask=None, tgt_key_padding_mask=None, memory_key_padding_mask=None):\n",
        "\n",
        "        # Encode source sequence\n",
        "        memory = self.encoder(\n",
        "            src=src,\n",
        "            src_mask=src_mask,\n",
        "            src_key_padding_mask=src_key_padding_mask\n",
        "        )\n",
        "\n",
        "        if flag:    # for switching between 2 languages\n",
        "            output = self.decoder1(\n",
        "                tgt=tgt,\n",
        "                memory=memory,\n",
        "                tgt_mask=tgt_mask,\n",
        "                memory_mask=memory_mask,\n",
        "                tgt_key_padding_mask=tgt_key_padding_mask,\n",
        "                memory_key_padding_mask=memory_key_padding_mask\n",
        "            )\n",
        "\n",
        "        else:\n",
        "            output = self.decoder2(\n",
        "                tgt=tgt,\n",
        "                memory=memory,\n",
        "                tgt_mask=tgt_mask,\n",
        "                memory_mask=memory_mask,\n",
        "                tgt_key_padding_mask=tgt_key_padding_mask,\n",
        "                memory_key_padding_mask=memory_key_padding_mask\n",
        "            )\n",
        "\n",
        "        return output"
      ],
      "metadata": {
        "id": "S5ieA9PbzveT"
      },
      "execution_count": null,
      "outputs": []
    },
    {
      "cell_type": "code",
      "execution_count": null,
      "metadata": {
        "id": "M1a-4WYAzqtU"
      },
      "outputs": [],
      "source": [
        "class PositionalEncoding(nn.Module):\n",
        "    \"\"\"Positional encoding for transformer inputs.\"\"\"\n",
        "\n",
        "    def __init__(self, d_model, max_len=5000):\n",
        "        super().__init__()\n",
        "\n",
        "        pe = torch.zeros(max_len, d_model)\n",
        "        position = torch.arange(0, max_len, dtype=torch.float).unsqueeze(1)\n",
        "\n",
        "        div_term = torch.exp(torch.arange(0, d_model, 2).float() *\n",
        "                           (-math.log(10000.0) / d_model))\n",
        "\n",
        "        pe[:, 0::2] = torch.sin(position * div_term)\n",
        "        pe[:, 1::2] = torch.cos(position * div_term)\n",
        "        pe = pe.unsqueeze(0).transpose(0, 1)\n",
        "\n",
        "        self.register_buffer('pe', pe)\n",
        "\n",
        "    def forward(self, x):\n",
        "        return x + self.pe[:x.size(0), :]\n"
      ]
    },
    {
      "cell_type": "code",
      "source": [
        "# Utility functions for creating masks\n",
        "def generate_square_subsequent_mask(sz):\n",
        "    \"\"\"Generate a square mask for the sequence to prevent attention to future positions.\"\"\"\n",
        "    mask = torch.triu(torch.ones(sz, sz) * float('-inf'), diagonal=1)\n",
        "    return mask"
      ],
      "metadata": {
        "id": "ruxbPWchztmL"
      },
      "execution_count": null,
      "outputs": []
    },
    {
      "cell_type": "markdown",
      "source": [
        "# Data Loaders"
      ],
      "metadata": {
        "id": "rNZ7xYmpj3CQ"
      }
    },
    {
      "cell_type": "code",
      "source": [
        "import torch\n",
        "from torch.utils.data import Dataset, DataLoader\n",
        "from torch.nn.utils.rnn import pad_sequence\n",
        "import ast\n",
        "from collections import Counter\n",
        "from typing import List, Dict, Tuple\n",
        "import random\n",
        "\n",
        "class TokenizedCodeDataset(Dataset):\n",
        "\n",
        "    def __init__(self, file_path: str, max_seq_len: int = 512, min_seq_len: int = 5,\n",
        "                 vocab_size: int = None, test_mode: bool = False, vocab: List[str] = None):\n",
        "        \"\"\"\n",
        "        Args:\n",
        "            file_path: Path to tokenized text file\n",
        "            max_seq_len: Maximum sequence length (longer sequences will be truncated)\n",
        "            min_seq_len: Minimum sequence length (shorter sequences will be filtered)\n",
        "            vocab_size: Maximum vocabulary size (None for no limit)\n",
        "            test_mode: If True, loads only first 1000 lines for testing\n",
        "        \"\"\"\n",
        "        self.max_seq_len = max_seq_len\n",
        "        self.min_seq_len = min_seq_len\n",
        "\n",
        "        # Special tokens\n",
        "        self.PAD_TOKEN = '<PAD>'\n",
        "        self.UNK_TOKEN = '<UNK>'\n",
        "        self.SOS_TOKEN = '<SOS>'  # Start of sequence\n",
        "        self.EOS_TOKEN = '<EOS>'  # End of sequence\n",
        "\n",
        "        # Load and process data\n",
        "        self.sequences = self._load_data(file_path, test_mode)\n",
        "        if vocab is None:\n",
        "            # Build vocab from this dataset\n",
        "            self.vocab = self._build_vocab(vocab_size)\n",
        "        else:\n",
        "            # Use given vocab (shared across datasets)\n",
        "            self.vocab = vocab\n",
        "        self.token_to_idx = {token: idx for idx, token in enumerate(self.vocab)}\n",
        "        self.idx_to_token = {idx: token for token, idx in self.token_to_idx.items()}\n",
        "\n",
        "        # Convert sequences to indices\n",
        "        self.encoded_sequences = self._encode_sequences()\n",
        "\n",
        "        print(f\"Loaded {len(self.encoded_sequences)} sequences\")\n",
        "        print(f\"Vocabulary size: {len(self.vocab)}\")\n",
        "        print(f\"Average sequence length: {sum(len(seq) for seq in self.sequences) / len(self.sequences):.1f}\")\n",
        "\n",
        "    def _load_data(self, file_path: str, test_mode: bool) -> List[List[str]]:\n",
        "        \"\"\"Load tokenized sequences from file where each line looks like [\"#\", \"include\", \"<\"].\"\"\"\n",
        "        sequences = []\n",
        "\n",
        "        with open(file_path, 'r', encoding='utf-8') as f:\n",
        "            for i, line in enumerate(f):\n",
        "                if test_mode and i >= 1000:  # Limit for testing\n",
        "                    break\n",
        "\n",
        "                line = line.strip()\n",
        "                if not line:\n",
        "                    continue\n",
        "\n",
        "                try:\n",
        "                    # Parse the list of tokens from string representation\n",
        "                    tokens = ast.literal_eval(line)\n",
        "\n",
        "                    # Ensure it's a list of strings\n",
        "                    if isinstance(tokens, list) and len(tokens) >= self.min_seq_len:\n",
        "                        # Convert everything to string (in case of numbers or symbols)\n",
        "                        tokens = [str(token) for token in tokens]\n",
        "\n",
        "                        # Truncate if needed (reserve space for SOS/EOS)\n",
        "                        if len(tokens) > self.max_seq_len - 2:\n",
        "                            tokens = tokens[: self.max_seq_len - 2]\n",
        "\n",
        "                        sequences.append(tokens)\n",
        "\n",
        "                except (ValueError, SyntaxError) as e:\n",
        "                    print(f\"Skipping line {i+1}: {e}\")\n",
        "                    continue\n",
        "\n",
        "        if not sequences:\n",
        "            raise ValueError(\"No valid sequences found in the file!\")\n",
        "\n",
        "        return sequences\n",
        "\n",
        "\n",
        "    def _build_vocab(self, vocab_size: int = None, min_freq: int = 3) -> List[str]:\n",
        "        \"\"\"Build vocabulary from all tokens with frequency threshold.\"\"\"\n",
        "        # Count all tokens\n",
        "        token_counts = Counter()\n",
        "        for sequence in self.sequences:\n",
        "            token_counts.update(sequence)\n",
        "\n",
        "        # Start with special tokens\n",
        "        vocab = [self.PAD_TOKEN, self.UNK_TOKEN, self.SOS_TOKEN, self.EOS_TOKEN]\n",
        "\n",
        "        # Filter tokens by frequency (only keep tokens with count >= min_freq)\n",
        "        filtered_tokens = [(tok, cnt) for tok, cnt in token_counts.items() if cnt >= min_freq]\n",
        "\n",
        "        # Sort by frequency (most common first)\n",
        "        filtered_tokens.sort(key=lambda x: x[1], reverse=True)\n",
        "\n",
        "        # Apply vocab size limit if given\n",
        "        if vocab_size is not None:\n",
        "            remaining_vocab_size = vocab_size - len(vocab)\n",
        "            filtered_tokens = filtered_tokens[:remaining_vocab_size]\n",
        "\n",
        "        # Add to vocab\n",
        "        vocab.extend([tok for tok, _ in filtered_tokens])\n",
        "\n",
        "        return vocab\n",
        "\n",
        "    def _encode_sequences(self) -> List[List[int]]:\n",
        "        \"\"\"Convert token sequences to index sequences, replace rare tokens with <UNK>.\"\"\"\n",
        "        encoded = []\n",
        "        unk_idx = self.token_to_idx[self.UNK_TOKEN]\n",
        "        sos_idx = self.token_to_idx[self.SOS_TOKEN]\n",
        "        eos_idx = self.token_to_idx[self.EOS_TOKEN]\n",
        "\n",
        "        for sequence in self.sequences:\n",
        "            # Add SOS and EOS tokens\n",
        "            full_sequence = [self.SOS_TOKEN] + sequence + [self.EOS_TOKEN]\n",
        "\n",
        "            # Convert to indices, replace unknown tokens with <UNK>\n",
        "            indices = []\n",
        "            for token in full_sequence:\n",
        "                indices.append(self.token_to_idx.get(token, unk_idx))\n",
        "\n",
        "            encoded.append(indices)\n",
        "\n",
        "        return encoded\n",
        "\n",
        "    def __len__(self) -> int:\n",
        "        return len(self.encoded_sequences)\n",
        "\n",
        "    def __getitem__(self, idx: int) -> Dict[str, torch.Tensor]:\n",
        "        \"\"\"\n",
        "        Return source and target sequences for reconstruction.\n",
        "        For unsupervised learning, target is the same as source but shifted.\n",
        "        \"\"\"\n",
        "        sequence = self.encoded_sequences[idx]\n",
        "\n",
        "        # For encoder-decoder reconstruction:\n",
        "        # Source: full sequence with SOS and EOS\n",
        "        # Target input: sequence without EOS (for teacher forcing)\n",
        "        # Target output: sequence without SOS (for loss calculation)\n",
        "\n",
        "        src_seq = torch.tensor(sequence, dtype=torch.long)\n",
        "        tgt_input = torch.tensor(sequence[:-1], dtype=torch.long)  # Remove EOS\n",
        "        tgt_output = torch.tensor(sequence[1:], dtype=torch.long)  # Remove SOS\n",
        "\n",
        "        return {\n",
        "            'src': src_seq,           # Input to encoder\n",
        "            'tgt_input': tgt_input,   # Input to decoder (with teacher forcing)\n",
        "            'tgt_output': tgt_output, # Target for loss calculation\n",
        "            'src_len': len(src_seq),\n",
        "            'tgt_len': len(tgt_input)\n",
        "        }\n",
        "\n",
        "def collate_fn(batch: List[Dict]) -> Dict[str, torch.Tensor]:\n",
        "    \"\"\"\n",
        "    Collate function to pad sequences in a batch.\n",
        "    \"\"\"\n",
        "    # Separate different components\n",
        "    src_seqs = [item['src'] for item in batch]\n",
        "    tgt_input_seqs = [item['tgt_input'] for item in batch]\n",
        "    tgt_output_seqs = [item['tgt_output'] for item in batch]\n",
        "    src_lens = torch.tensor([item['src_len'] for item in batch])\n",
        "    tgt_lens = torch.tensor([item['tgt_len'] for item in batch])\n",
        "\n",
        "    # Pad sequences\n",
        "    src_padded = pad_sequence(src_seqs, batch_first=True, padding_value=0)  # PAD token is at index 0\n",
        "    tgt_input_padded = pad_sequence(tgt_input_seqs, batch_first=True, padding_value=0)\n",
        "    tgt_output_padded = pad_sequence(tgt_output_seqs, batch_first=True, padding_value=0)\n",
        "\n",
        "    # Create padding masks (True for real tokens, False for padding)\n",
        "    src_mask = (src_padded != 0)\n",
        "    tgt_mask = (tgt_input_padded != 0)\n",
        "\n",
        "    return {\n",
        "        'src': src_padded,\n",
        "        'tgt_input': tgt_input_padded,\n",
        "        'tgt_output': tgt_output_padded,\n",
        "        'src_mask': src_mask,\n",
        "        'tgt_mask': tgt_mask,\n",
        "        'src_lens': src_lens,\n",
        "        'tgt_lens': tgt_lens\n",
        "    }\n",
        "\n",
        "def create_dataloader(file_path: str, batch_size: int = 32, shuffle: bool = True,\n",
        "                     max_seq_len: int = 512, min_seq_len: int = 5,\n",
        "                     vocab_size: int = None, test_mode: bool = False,\n",
        "                     num_workers: int = 0, vocab: List[str] = None) -> Tuple[DataLoader, TokenizedCodeDataset]:\n",
        "    \"\"\"\n",
        "    Create a DataLoader for the tokenized code dataset.\n",
        "\n",
        "    Args:\n",
        "        file_path: Path to the tokenized text file\n",
        "        batch_size: Batch size for training\n",
        "        shuffle: Whether to shuffle the dataset\n",
        "        max_seq_len: Maximum sequence length\n",
        "        min_seq_len: Minimum sequence length\n",
        "        vocab_size: Maximum vocabulary size\n",
        "        test_mode: Load only subset for testing\n",
        "        num_workers: Number of workers for data loading\n",
        "\n",
        "    Returns:\n",
        "        DataLoader and Dataset objects\n",
        "    \"\"\"\n",
        "\n",
        "    # Create dataset\n",
        "    dataset = TokenizedCodeDataset(\n",
        "        file_path=file_path,\n",
        "        max_seq_len=max_seq_len,\n",
        "        min_seq_len=min_seq_len,\n",
        "        vocab_size=vocab_size,\n",
        "        test_mode=test_mode,\n",
        "        vocab = vocab\n",
        "    )\n",
        "\n",
        "    # Create dataloader\n",
        "    dataloader = DataLoader(\n",
        "        dataset=dataset,\n",
        "        batch_size=batch_size,\n",
        "        shuffle=shuffle,\n",
        "        collate_fn=collate_fn,\n",
        "        num_workers=num_workers,\n",
        "        pin_memory=True if torch.cuda.is_available() else False\n",
        "    )\n",
        "\n",
        "    return dataloader, dataset"
      ],
      "metadata": {
        "id": "f-nHuHkSOkSh"
      },
      "execution_count": null,
      "outputs": []
    },
    {
      "cell_type": "markdown",
      "source": [
        "# **Trainer**"
      ],
      "metadata": {
        "id": "3D0sxREbi_g-"
      }
    },
    {
      "cell_type": "code",
      "source": [
        "import torch\n",
        "import torch.nn as nn\n",
        "import torch.optim as optim\n",
        "from torch.utils.data import DataLoader\n",
        "import math\n",
        "import time\n",
        "from typing import Dict, Tuple\n",
        "import numpy as np\n",
        "from tqdm import tqdm\n",
        "import matplotlib.pyplot as plt\n",
        "import os\n",
        "\n",
        "class ReconstructionLoss(nn.Module):\n",
        "    \"\"\"\n",
        "    Reconstruction loss for sequence-to-sequence learning.\n",
        "    Uses CrossEntropyLoss with padding token masking.\n",
        "    \"\"\"\n",
        "\n",
        "    def __init__(self, vocab_size: int, pad_idx: int = 0, label_smoothing: float = 0.0):\n",
        "        super().__init__()\n",
        "        self.vocab_size = vocab_size\n",
        "        self.pad_idx = pad_idx\n",
        "        self.criterion = nn.CrossEntropyLoss(\n",
        "            ignore_index=pad_idx,  # Ignore padding tokens in loss\n",
        "            label_smoothing=label_smoothing\n",
        "        )\n",
        "\n",
        "    def forward(self, predictions: torch.Tensor, targets: torch.Tensor,\n",
        "                target_mask: torch.Tensor = None) -> Dict[str, torch.Tensor]:\n",
        "        \"\"\"\n",
        "        Calculate reconstruction loss.\n",
        "\n",
        "        Args:\n",
        "            predictions: (batch_size, seq_len, vocab_size)\n",
        "            targets: (batch_size, seq_len)\n",
        "            target_mask: (batch_size, seq_len) - True for real tokens\n",
        "\n",
        "        Returns:\n",
        "            Dictionary with loss and metrics\n",
        "        \"\"\"\n",
        "        batch_size, seq_len, vocab_size = predictions.shape\n",
        "\n",
        "        # Reshape for CrossEntropyLoss\n",
        "        predictions_flat = predictions.view(-1, vocab_size)  # (batch_size * seq_len, vocab_size)\n",
        "        targets_flat = targets.view(-1)  # (batch_size * seq_len,)\n",
        "\n",
        "        # Calculate loss\n",
        "        loss = self.criterion(predictions_flat, targets_flat)\n",
        "\n",
        "        # Calculate accuracy (only for non-padding tokens)\n",
        "        with torch.no_grad():\n",
        "            pred_tokens = torch.argmax(predictions_flat, dim=-1)\n",
        "\n",
        "            if target_mask is not None:\n",
        "                mask_flat = target_mask.view(-1)\n",
        "                correct = ((pred_tokens == targets_flat) & mask_flat).sum().float()\n",
        "                total = mask_flat.sum().float()\n",
        "            else:\n",
        "                # Use ignore_index to exclude padding tokens\n",
        "                valid_mask = targets_flat != self.pad_idx\n",
        "                correct = ((pred_tokens == targets_flat) & valid_mask).sum().float()\n",
        "                total = valid_mask.sum().float()\n",
        "\n",
        "            accuracy = correct / (total + 1e-8)  # Avoid division by zero\n",
        "\n",
        "        # Calculate perplexity\n",
        "        perplexity = torch.exp(loss)\n",
        "\n",
        "        return {\n",
        "            'loss': loss,\n",
        "            'accuracy': accuracy,\n",
        "            'perplexity': perplexity,\n",
        "            'num_tokens': total\n",
        "        }\n",
        "\n",
        "def generate_square_subsequent_mask(sz: int, device: torch.device) -> torch.Tensor:\n",
        "    \"\"\"Generate causal mask for decoder self-attention.\"\"\"\n",
        "    mask = torch.triu(torch.ones(sz, sz, device=device) * float('-inf'), diagonal=1)\n",
        "    return mask\n",
        "\n",
        "def create_padding_mask(seq: torch.Tensor, pad_idx: int = 0) -> torch.Tensor:\n",
        "    \"\"\"Create padding mask - True for padding tokens.\"\"\"\n",
        "    return (seq == pad_idx)\n",
        "\n",
        "class TransformerTrainer:\n",
        "    \"\"\"\n",
        "    Trainer class for Transformer reconstruction training.\n",
        "    \"\"\"\n",
        "\n",
        "    def __init__(self, model: nn.Module, vocab_size: int, idx_to_token: Dict[int, str], pad_idx: int = 0,\n",
        "                 learning_rate: float = 1e-4, weight_decay: float = 1e-5,\n",
        "                 label_smoothing: float = 0.1, warmup_steps: int = 4000):\n",
        "\n",
        "        self.model = model\n",
        "        self.vocab_size = vocab_size\n",
        "        self.pad_idx = pad_idx\n",
        "        self.device = next(model.parameters()).device\n",
        "\n",
        "        # Loss function\n",
        "        self.criterion = ReconstructionLoss(vocab_size, pad_idx, label_smoothing)\n",
        "\n",
        "        # Optimizer with learning rate scheduling\n",
        "        self.optimizer = optim.AdamW(\n",
        "            model.parameters(),\n",
        "            lr=learning_rate,\n",
        "            betas=(0.9, 0.98),\n",
        "            weight_decay=weight_decay\n",
        "        )\n",
        "\n",
        "        self.metrics_calculator = MetricsCalculator(idx_to_token, pad_idx)\n",
        "\n",
        "        # Learning rate scheduler (Transformer-style warmup)\n",
        "        self.warmup_steps = warmup_steps\n",
        "        self.d_model = model.encoder.d_model if hasattr(model.encoder, 'd_model') else 512\n",
        "        self.scheduler = optim.lr_scheduler.LambdaLR(\n",
        "            self.optimizer,\n",
        "            lr_lambda=self._get_lr_scale\n",
        "        )\n",
        "\n",
        "        # Training metrics\n",
        "        self.train_losses_1 = []\n",
        "        self.train_losses_2 = []\n",
        "        self.train_accuracies_1 = []\n",
        "        self.train_accuracies_2 = []\n",
        "        self.val_losses_1 = []\n",
        "        self.val_losses_2 = []\n",
        "        self.val_accuracies_1 = []\n",
        "        self.val_accuracies_2 = []\n",
        "        self.val_bleu_1 = []\n",
        "        self.val_bleu_2 = []\n",
        "        self.val_cer_1 = []\n",
        "        self.val_cer_2 = []\n",
        "        self.val_wer_1 = []\n",
        "        self.val_wer_2 = []\n",
        "        self.step = 0\n",
        "\n",
        "    def _get_lr_scale(self, step: int) -> float:\n",
        "        \"\"\"Learning rate scaling for warmup.\"\"\"\n",
        "        step = max(1, step)  # Avoid division by zero\n",
        "        return (self.d_model ** -0.5) * min(step ** -0.5, step * (self.warmup_steps ** -1.5))\n",
        "\n",
        "    def train_step(self, batch: Dict[str, torch.Tensor], flag: bool) -> Dict[str, float]:\n",
        "        \"\"\"Single training step.\"\"\"\n",
        "        self.model.train()\n",
        "        self.optimizer.zero_grad()\n",
        "\n",
        "        # Move batch to device\n",
        "        src = batch['src'].to(self.device)\n",
        "        tgt_input = batch['tgt_input'].to(self.device)\n",
        "        tgt_output = batch['tgt_output'].to(self.device)\n",
        "        tgt_mask_padding = batch['tgt_mask'].to(self.device)\n",
        "\n",
        "        batch_size, tgt_len = tgt_input.shape\n",
        "\n",
        "        # Create masks\n",
        "        src_key_padding_mask = create_padding_mask(src, self.pad_idx)\n",
        "        tgt_key_padding_mask = create_padding_mask(tgt_input, self.pad_idx)\n",
        "        tgt_mask = generate_square_subsequent_mask(tgt_len, self.device)\n",
        "\n",
        "        # Forward pass\n",
        "        output = self.model(\n",
        "            src=src,\n",
        "            tgt=tgt_input,\n",
        "            flag = flag,\n",
        "            tgt_mask=tgt_mask,\n",
        "            src_key_padding_mask=src_key_padding_mask,\n",
        "            tgt_key_padding_mask=tgt_key_padding_mask,\n",
        "            memory_key_padding_mask=src_key_padding_mask\n",
        "        )\n",
        "\n",
        "        # Calculate loss\n",
        "        loss_dict = self.criterion(output, tgt_output, tgt_mask_padding)\n",
        "        loss = loss_dict['loss']\n",
        "\n",
        "        # Backward pass\n",
        "        loss.backward()\n",
        "\n",
        "        # Gradient clipping\n",
        "        torch.nn.utils.clip_grad_norm_(self.model.parameters(), max_norm=1.0)\n",
        "\n",
        "        # Update parameters\n",
        "        self.optimizer.step()\n",
        "        self.scheduler.step()\n",
        "        self.step += 1\n",
        "\n",
        "\n",
        "\n",
        "        return {\n",
        "            'loss': loss.item(),\n",
        "            'accuracy': loss_dict['accuracy'].item(),\n",
        "            'perplexity': loss_dict['perplexity'].item(),\n",
        "            'lr': self.scheduler.get_last_lr()[0],\n",
        "            'num_tokens': loss_dict['num_tokens'].item()\n",
        "        }\n",
        "\n",
        "    def validate(self, val_loader_1: DataLoader, val_loader_2: DataLoader) -> Dict[str, float]:\n",
        "        \"\"\"Validation loop.\"\"\"\n",
        "        self.model.eval()\n",
        "\n",
        "        total_loss_1 = 0\n",
        "        total_accuracy_1 = 0\n",
        "        total_tokens_1 = 0\n",
        "        total_bleu_1 = 0\n",
        "        total_cer_1 = 0\n",
        "        total_wer_1 = 0\n",
        "\n",
        "        total_loss_2 = 0\n",
        "        total_accuracy_2 = 0\n",
        "        total_tokens_2 = 0\n",
        "        total_bleu_2 = 0\n",
        "        total_cer_2 = 0\n",
        "        total_wer_2 = 0\n",
        "\n",
        "        num_batches = 0\n",
        "\n",
        "        with torch.no_grad():\n",
        "            for batch_1, batch_2 in tqdm(zip(val_loader_1, val_loader_2), desc=\"Validating\", leave=False):\n",
        "                # Move batch to device\n",
        "                src_1 = batch_1['src'].to(self.device)\n",
        "                tgt_input_1 = batch_1['tgt_input'].to(self.device)\n",
        "                tgt_output_1 = batch_1['tgt_output'].to(self.device)\n",
        "                tgt_mask_padding_1 = batch_1['tgt_mask'].to(self.device)\n",
        "\n",
        "                src_2 = batch_2['src'].to(self.device)\n",
        "                tgt_input_2 = batch_2['tgt_input'].to(self.device)\n",
        "                tgt_output_2 = batch_2['tgt_output'].to(self.device)\n",
        "                tgt_mask_padding_2 = batch_2['tgt_mask'].to(self.device)\n",
        "\n",
        "                batch_size, tgt_len_1 = tgt_input_1.shape\n",
        "                batch_size, tgt_len_2 = tgt_input_2.shape\n",
        "\n",
        "                # Create masks\n",
        "                src_key_padding_mask_1 = create_padding_mask(src_1, self.pad_idx)\n",
        "                tgt_key_padding_mask_1 = create_padding_mask(tgt_input_1, self.pad_idx)\n",
        "                tgt_mask_1 = generate_square_subsequent_mask(tgt_len_1, self.device)\n",
        "\n",
        "                src_key_padding_mask_2 = create_padding_mask(src_2, self.pad_idx)\n",
        "                tgt_key_padding_mask_2 = create_padding_mask(tgt_input_2, self.pad_idx)\n",
        "                tgt_mask_2 = generate_square_subsequent_mask(tgt_len_2, self.device)\n",
        "\n",
        "                # Forward pass\n",
        "                output_1 = self.model(\n",
        "                    src=src_1,\n",
        "                    tgt=tgt_input_1,\n",
        "                    flag=True,\n",
        "                    tgt_mask=tgt_mask_1,\n",
        "                    src_key_padding_mask=src_key_padding_mask_1,\n",
        "                    tgt_key_padding_mask=tgt_key_padding_mask_1,\n",
        "                    memory_key_padding_mask=src_key_padding_mask_1\n",
        "                )\n",
        "\n",
        "                output_2 = self.model(\n",
        "                    src=src_2,\n",
        "                    tgt=tgt_input_2,\n",
        "                    flag=False,\n",
        "                    tgt_mask=tgt_mask_2,\n",
        "                    src_key_padding_mask=src_key_padding_mask_2,\n",
        "                    tgt_key_padding_mask=tgt_key_padding_mask_2,\n",
        "                    memory_key_padding_mask=src_key_padding_mask_2\n",
        "                )\n",
        "\n",
        "                # Calculate loss\n",
        "                loss_dict_1 = self.criterion(output_1, tgt_output_1, tgt_mask_padding_1)\n",
        "                loss_dict_2 = self.criterion(output_2, tgt_output_2, tgt_mask_padding_2)\n",
        "\n",
        "                predictions_1 = torch.argmax(output_1, dim=-1)\n",
        "                predictions_2 = torch.argmax(output_2, dim=-1)\n",
        "\n",
        "                metrics_1 = self.metrics_calculator.calculate_all_metrics(predictions_1, tgt_output_1)\n",
        "                metrics_2 = self.metrics_calculator.calculate_all_metrics(predictions_2, tgt_output_2)\n",
        "\n",
        "                # Accumulate metrics\n",
        "                total_loss_1 += loss_dict_1['loss'].item()\n",
        "                total_accuracy_1 += loss_dict_1['accuracy'].item() * loss_dict_1['num_tokens'].item()\n",
        "                total_tokens_1 += loss_dict_1['num_tokens'].item()\n",
        "                total_bleu_1 += metrics_1['bleu']\n",
        "                total_cer_1 += metrics_1['cer']\n",
        "                total_wer_1 += metrics_1['wer']\n",
        "\n",
        "                total_loss_2 += loss_dict_2['loss'].item()\n",
        "                total_accuracy_2 += loss_dict_2['accuracy'].item() * loss_dict_2['num_tokens'].item()\n",
        "                total_tokens_2 += loss_dict_2['num_tokens'].item()\n",
        "                total_bleu_2 += metrics_2['bleu']\n",
        "                total_cer_2 += metrics_2['cer']\n",
        "                total_wer_2 += metrics_2['wer']\n",
        "\n",
        "                num_batches += 1\n",
        "\n",
        "        avg_loss_1 = total_loss_1 / num_batches\n",
        "        avg_accuracy_1 = total_accuracy_1 / total_tokens_1 if total_tokens_1 > 0 else 0\n",
        "        avg_perplexity_1 = math.exp(avg_loss_1)\n",
        "        avg_bleu_1 = total_bleu_1 / num_batches\n",
        "        avg_cer_1 = total_cer_1 / num_batches\n",
        "        avg_wer_1 = total_wer_1 / num_batches\n",
        "\n",
        "        avg_loss_2 = total_loss_2 / num_batches\n",
        "        avg_accuracy_2 = total_accuracy_2 / total_tokens_2 if total_tokens_2 > 0 else 0\n",
        "        avg_perplexity_2 = math.exp(avg_loss_2)\n",
        "        avg_bleu_2 = total_bleu_2 / num_batches\n",
        "        avg_cer_2 = total_cer_2 / num_batches\n",
        "        avg_wer_2 = total_wer_2 / num_batches\n",
        "\n",
        "        return {\n",
        "            'loss_1': avg_loss_1,\n",
        "            'loss_2': avg_loss_2,\n",
        "            'accuracy_1': avg_accuracy_1,\n",
        "            'accuracy_2': avg_accuracy_2,\n",
        "            'perplexity_1': avg_perplexity_1,\n",
        "            'perplexity_2': avg_perplexity_2,\n",
        "            'bleu_1': avg_bleu_1,\n",
        "            'bleu_2': avg_bleu_2,\n",
        "            'cer_1': avg_cer_1,\n",
        "            'cer_2': avg_cer_2,\n",
        "            'wer_1': avg_wer_1,\n",
        "            'wer_2': avg_wer_2\n",
        "        }\n",
        "\n",
        "    def train_epoch(self, train_loader_1: DataLoader, train_loader_2: DataLoader, val_loader_1: DataLoader = None,\n",
        "                   val_loader_2: DataLoader = None, print_every: int = 100) -> Dict[str, float]:\n",
        "        \"\"\"Train for one epoch.\"\"\"\n",
        "\n",
        "        epoch_loss_1 = 0\n",
        "        epoch_loss_2 = 0\n",
        "        epoch_accuracy_1 = 0\n",
        "        epoch_accuracy_2 = 0\n",
        "        epoch_tokens_1 = 0\n",
        "        epoch_tokens_2 = 0\n",
        "\n",
        "        progress_bar = tqdm(zip(train_loader_1, train_loader_2), desc=\"Training\")\n",
        "\n",
        "        for batch_idx, (batch_1, batch_2) in enumerate(progress_bar):\n",
        "            # Training step\n",
        "            metrics_1 = self.train_step(batch_1, flag = True)\n",
        "            metrics_2 = self.train_step(batch_2, flag = False)\n",
        "\n",
        "            # Accumulate metrics\n",
        "            epoch_loss_1 += metrics_1['loss']\n",
        "            epoch_loss_2 += metrics_2['loss']\n",
        "            epoch_accuracy_1 += metrics_1['accuracy'] * metrics_1['num_tokens']\n",
        "            epoch_accuracy_2 += metrics_2['accuracy'] * metrics_2['num_tokens']\n",
        "            epoch_tokens_1 += metrics_1['num_tokens']\n",
        "\n",
        "            # Update progress bar\n",
        "            progress_bar.set_postfix({\n",
        "                'loss_1': f\"{metrics_1['loss']:.4f}\",\n",
        "                'loss_2': f\"{metrics_2['loss']:.4f}\",\n",
        "                'acc_1': f\"{metrics_1['accuracy']:.4f}\",\n",
        "                'acc_2': f\"{metrics_2['accuracy']:.4f}\",\n",
        "                'lr': f\"{metrics_1['lr']:.2e}\",\n",
        "                'ppl_1': f\"{metrics_1['perplexity']:.2f}\",\n",
        "                'ppl_2': f\"{metrics_2['perplexity']:.2f}\"\n",
        "            })\n",
        "\n",
        "            # Print detailed stats\n",
        "            if (batch_idx + 1) % print_every == 0:\n",
        "                avg_loss_1 = epoch_loss_1 / (batch_idx + 1)\n",
        "                avg_loss_2 = epoch_loss_2 / (batch_idx + 1)\n",
        "                avg_acc_1 = epoch_accuracy_1 / epoch_tokens_1 if epoch_tokens_1 > 0 else 0\n",
        "                avg_acc_2 = epoch_accuracy_2 / epoch_tokens_2 if epoch_tokens_2 > 0 else 0\n",
        "\n",
        "                print(f\"\\nStep {self.step}, Batch {batch_idx + 1}/{len(train_loader_1)}\")\n",
        "                print(f\"Loss 1: {avg_loss_1:.4f}, Accuracy: {avg_acc_1:.4f}\")\n",
        "                print(f\"Loss 2: {avg_loss_2:.4f}, Accuracy: {avg_acc_2:.4f}\")\n",
        "                print(f\"Learning Rate: {metrics_1['lr']:.2e}\")\n",
        "\n",
        "        # Calculate epoch averages\n",
        "        avg_train_loss_1 = epoch_loss_1 / len(train_loader_1)\n",
        "        avg_train_loss_2 = epoch_loss_2 / len(train_loader_2)\n",
        "        avg_train_acc_1 = epoch_accuracy_1 / epoch_tokens_1 if epoch_tokens_1 > 0 else 0\n",
        "        avg_train_acc_2 = epoch_accuracy_2 / epoch_tokens_2 if epoch_tokens_2 > 0 else 0\n",
        "\n",
        "        # Validation\n",
        "        val_metrics = {}\n",
        "        if (val_loader_1 is not None) and (val_loader_2 is not None):\n",
        "            print(\"\\nRunning validation...\")\n",
        "            val_metrics = self.validate(val_loader_1, val_loader_2)\n",
        "\n",
        "        # Store metrics\n",
        "        self.train_losses_1.append(avg_train_loss_1)\n",
        "        self.train_losses_2.append(avg_train_loss_2)\n",
        "        self.train_accuracies_1.append(avg_train_acc_1)\n",
        "        self.train_accuracies_2.append(avg_train_acc_2)\n",
        "        if val_metrics:\n",
        "            self.val_losses_1.append(val_metrics['loss_1'])\n",
        "            self.val_losses_2.append(val_metrics['loss_2'])\n",
        "            self.val_accuracies_1.append(val_metrics['accuracy_1'])\n",
        "            self.val_accuracies_2.append(val_metrics['accuracy_2'])\n",
        "            self.val_bleu_1.append(val_metrics['bleu_1'])\n",
        "            self.val_bleu_2.append(val_metrics['bleu_2'])\n",
        "            self.val_cer_1.append(val_metrics['cer_1'])\n",
        "            self.val_cer_2.append(val_metrics['cer_2'])\n",
        "            self.val_wer_1.append(val_metrics['wer_1'])\n",
        "            self.val_wer_2.append(val_metrics['wer_2'])\n",
        "\n",
        "        return {\n",
        "            'train_loss_1': avg_train_loss_1,\n",
        "            'train_loss_2': avg_train_loss_2,\n",
        "            'train_accuracy_1': avg_train_acc_1,\n",
        "            'train_accuracy_2': avg_train_acc_2,\n",
        "            **val_metrics\n",
        "        }\n",
        "\n",
        "    def save_checkpoint(self, filepath: str, epoch: int, best_val_loss_1: float = None, best_val_loss_2: float = None):\n",
        "        \"\"\"Save model checkpoint.\"\"\"\n",
        "        checkpoint = {\n",
        "            'epoch': epoch,\n",
        "            'model_state_dict': self.model.state_dict(),\n",
        "            'optimizer_state_dict': self.optimizer.state_dict(),\n",
        "            'scheduler_state_dict': self.scheduler.state_dict(),\n",
        "            'train_losses_1': self.train_losses_1,\n",
        "            'train_losses_2': self.train_losses_2,\n",
        "            'train_accuracies_1': self.train_accuracies_1,\n",
        "            'train_accuracies_2': self.train_accuracies_2,\n",
        "            'val_losses_1': self.val_losses_1,\n",
        "            'val_losses_2': self.val_losses_2,\n",
        "            'val_accuracies_1': self.val_accuracies_1,\n",
        "            'val_accuracies_2': self.val_accuracies_2,\n",
        "            'val_bleu_1': self.val_bleu_1,\n",
        "            'val_bleu_2': self.val_bleu_2,\n",
        "            'val_cer_1': self.val_cer_1,\n",
        "            'val_cer_2': self.val_cer_2,\n",
        "            'val_wer_1': self.val_wer_1,\n",
        "            'val_wer_2': self.val_wer_2,\n",
        "            'step': self.step,\n",
        "            'best_val_loss_1': best_val_loss_1,\n",
        "            'best_val_loss_2': best_val_loss_2\n",
        "        }\n",
        "        torch.save(checkpoint, filepath)\n",
        "\n",
        "    def load_checkpoint(self, filepath: str):\n",
        "        \"\"\"Load model checkpoint.\"\"\"\n",
        "        checkpoint = torch.load(filepath, map_location=self.device)\n",
        "        self.model.load_state_dict(checkpoint['model_state_dict'])\n",
        "        self.optimizer.load_state_dict(checkpoint['optimizer_state_dict'])\n",
        "        self.scheduler.load_state_dict(checkpoint['scheduler_state_dict'])\n",
        "        self.train_losses_1 = checkpoint.get('train_losses_1', [])\n",
        "        self.train_losses_2 = checkpoint.get('train_losses_2', [])\n",
        "        self.train_accuracies_1 = checkpoint.get('train_accuracies_1', [])\n",
        "        self.train_accuracies_2 = checkpoint.get('train_accuracies_2', [])\n",
        "        self.val_losses_1 = checkpoint.get('val_losses_1', [])\n",
        "        self.val_losses_2 = checkpoint.get('val_losses_2', [])\n",
        "        self.val_accuracies_1 = checkpoint.get('val_accuracies_1', [])\n",
        "        self.val_accuracies_2 = checkpoint.get('val_accuracies_2', [])\n",
        "        self.val_bleu_1 = checkpoint.get('val_bleu_1', [])\n",
        "        self.val_bleu_2 = checkpoint.get('val_bleu_2', [])\n",
        "        self.val_cer_1 = checkpoint.get('val_cer_1', [])\n",
        "        self.val_cer_2 = checkpoint.get('val_cer_2', [])\n",
        "        self.val_wer_1 = checkpoint.get('val_wer_1', [])\n",
        "        self.val_wer_2 = checkpoint.get('val_wer_2', [])\n",
        "        self.step = checkpoint.get('step', 0)\n",
        "        return checkpoint.get('epoch', 0), checkpoint.get('best_val_loss_1', float('inf')), checkpoint.get('best_val_loss_2', float('inf'))\n",
        "\n",
        "    def plot_metrics(self, save_path: str = None):\n",
        "        \"\"\"Plot training metrics.\"\"\"\n",
        "        fig, ((ax1, ax2)) = plt.subplots(1, 2, figsize=(12, 4))\n",
        "\n",
        "        epochs = range(1, len(self.train_losses_1) + 1)\n",
        "\n",
        "        # Loss plot\n",
        "        ax1.plot(epochs, self.train_losses_1, 'b-', label='Train Loss 1')\n",
        "        ax1.plot(epochs, self.train_losses_2, 'c-', label='Train Loss 2')\n",
        "\n",
        "        if self.val_losses_1:\n",
        "            ax1.plot(epochs, self.val_losses_1, 'r-', label='Val Loss 1')\n",
        "            ax1.plot(epochs, self.val_losses_2, 'g-', label='Val Loss 2')\n",
        "        ax1.set_xlabel('Epoch')\n",
        "        ax1.set_ylabel('Loss')\n",
        "        ax1.set_title('Training and Validation Loss')\n",
        "        ax1.legend()\n",
        "        ax1.grid(True)\n",
        "\n",
        "        # Accuracy plot\n",
        "        ax2.plot(epochs, self.train_accuracies_1, 'b-', label='Train Accuracy 1')\n",
        "        ax2.plot(epochs, self.train_accuracies_2, 'c-', label='Train Accuracy 2')\n",
        "        if self.val_accuracies_1:\n",
        "            ax2.plot(epochs, self.val_accuracies_1, 'r-', label='Val Accuracy 1')\n",
        "            ax2.plot(epochs, self.val_accuracies_2, 'g-', label='Val Accuracy 2')\n",
        "        ax2.set_xlabel('Epoch')\n",
        "        ax2.set_ylabel('Accuracy')\n",
        "        ax2.set_title('Training and Validation Accuracy')\n",
        "        ax2.legend()\n",
        "        ax2.grid(True)\n",
        "\n",
        "        plt.tight_layout()\n",
        "\n",
        "        if save_path:\n",
        "            plt.savefig(save_path, dpi=300, bbox_inches='tight')\n",
        "\n",
        "\n",
        "def train_transformer(model, train_loader_1, train_loader_2, val_loader_1, val_loader_2, dataset,\n",
        "                     num_epochs=10, save_dir='./checkpoints'):\n",
        "    \"\"\"\n",
        "    Main training function.\n",
        "    \"\"\"\n",
        "    # Create save directory\n",
        "    os.makedirs(save_dir, exist_ok=True)\n",
        "\n",
        "    # Move model to device\n",
        "    device = torch.device('cuda' if torch.cuda.is_available() else 'cpu')\n",
        "    model.to(device)\n",
        "    print(f\"Training on device: {device}\")\n",
        "\n",
        "    # Create trainer\n",
        "    trainer = TransformerTrainer(\n",
        "        model=model,\n",
        "        vocab_size=len(dataset.vocab),\n",
        "        idx_to_token=dataset.idx_to_token,\n",
        "        pad_idx=dataset.token_to_idx[dataset.PAD_TOKEN],\n",
        "        learning_rate=1e-4,\n",
        "        label_smoothing=0.1\n",
        "    )\n",
        "\n",
        "    # Training loop\n",
        "    best_val_loss_1, best_val_loss_2 = float('inf'), float('inf')\n",
        "    patience = 3\n",
        "    patience_counter = 0\n",
        "\n",
        "    print(f\"Starting training for {num_epochs} epochs...\")\n",
        "    print(f\"Model parameters: {sum(p.numel() for p in model.parameters()):,}\")\n",
        "\n",
        "    for epoch in range(1, num_epochs + 1):\n",
        "        print(f\"\\n{'='*60}\")\n",
        "        print(f\"Epoch {epoch}/{num_epochs}\")\n",
        "        print(f\"{'='*60}\")\n",
        "\n",
        "        # Train epoch\n",
        "        start_time = time.time()\n",
        "        epoch_metrics = trainer.train_epoch(train_loader_1, train_loader_2, val_loader_1, val_loader_2)\n",
        "        epoch_time = time.time() - start_time\n",
        "\n",
        "        print(f\"\\nEpoch {epoch} Summary:\")\n",
        "        print(f\"Time: {epoch_time:.1f}s\")\n",
        "        print(\"Training Metrics:\")\n",
        "        print(f\"  Loss 1: {epoch_metrics['train_loss_1']:.4f}, Loss 2: {epoch_metrics['train_loss_2']:.4f}\")\n",
        "        print(f\"  Accuracy 1: {epoch_metrics['train_accuracy_1']:.4f}, Accuracy 2: {epoch_metrics['train_accuracy_2']:.4f}\")\n",
        "\n",
        "        if 'loss_1' in epoch_metrics:  # Validation metrics available\n",
        "            val_loss_1 = epoch_metrics['loss_1']\n",
        "            val_loss_2 = epoch_metrics['loss_2']\n",
        "            print(\"Validation Metrics:\")\n",
        "            print(f\"  Loss 1: {val_loss_1:.4f}, Loss 2: {val_loss_2:.4f}\")\n",
        "            print(f\"  Accuracy 1: {epoch_metrics['accuracy_1']:.4f}, Accuracy 2: {epoch_metrics['accuracy_2']:.4f}\")\n",
        "            print(f\"  BLEU 1: {epoch_metrics['bleu_1']:.4f}, BLEU 2: {epoch_metrics['bleu_2']:.4f}\")\n",
        "            print(f\"  CER 1: {epoch_metrics['cer_1']:.4f}, CER 2: {epoch_metrics['cer_2']:.4f}\")\n",
        "            print(f\"  WER 1: {epoch_metrics['wer_1']:.4f}, WER 2: {epoch_metrics['wer_2']:.4f}\")\n",
        "\n",
        "            # Save best model\n",
        "            if val_loss_1 < best_val_loss_1 and val_loss_2 < best_val_loss_2:\n",
        "                best_val_loss_1 = val_loss_1\n",
        "                best_val_loss_2 = val_loss_2\n",
        "                patience_counter = 0\n",
        "                best_model_path = os.path.join(save_dir, 'best_model.pt')\n",
        "                trainer.save_checkpoint(best_model_path, epoch, best_val_loss_1, best_val_loss_2)\n",
        "                print(f\"New best model saved!\")\n",
        "            else:\n",
        "                patience_counter += 1\n",
        "                if patience_counter >= patience:\n",
        "                    print(f\"Early stopping! No improvement for {patience} epochs.\")\n",
        "                    break\n",
        "\n",
        "        # Save regular checkpoint\n",
        "        checkpoint_path = os.path.join(save_dir, f'checkpoint_epoch_{epoch}.pt')\n",
        "        trainer.save_checkpoint(checkpoint_path, epoch, best_val_loss_1, best_val_loss_2)\n",
        "        trainer.plot_metrics(os.path.join(save_dir, 'training_curves.png'))\n",
        "\n",
        "    # Plot training curves\n",
        "    print(\"\\nTraining completed!\")\n",
        "    return trainer"
      ],
      "metadata": {
        "id": "SLseZaYMTysO"
      },
      "execution_count": null,
      "outputs": []
    },
    {
      "cell_type": "markdown",
      "source": [
        "# **Main**"
      ],
      "metadata": {
        "id": "7kcx0B9fjIiZ"
      }
    },
    {
      "cell_type": "code",
      "source": [
        "# Step 1: Load both training datasets (C + C++) without vocab\n",
        "temp_dataset_c = TokenizedCodeDataset(\"c_code_train.txt\", vocab_size=10000)\n",
        "temp_dataset_cpp = TokenizedCodeDataset(\"cpp_code_train.txt\", vocab_size=10000)\n",
        "\n",
        "# Step 2: Merge vocab counts and build shared vocab\n",
        "all_tokens = Counter()\n",
        "for seq in temp_dataset_c.sequences + temp_dataset_cpp.sequences:\n",
        "    all_tokens.update(seq)\n",
        "\n",
        "# Build shared vocab manually\n",
        "special_tokens = [\"<PAD>\", \"<UNK>\", \"<SOS>\", \"<EOS>\"]\n",
        "most_common = [tok for tok, _ in all_tokens.most_common(10000 - len(special_tokens))]\n",
        "shared_vocab = special_tokens + most_common\n",
        "\n",
        "dataloader_1, dataset1 = create_dataloader(\n",
        "    file_path=\"c_code_train.txt\",\n",
        "    batch_size=8,\n",
        "    max_seq_len=1000,\n",
        "    vocab_size=None,   # ignored since we pass vocab\n",
        "    vocab=shared_vocab\n",
        ")\n",
        "\n",
        "dataloader_2, dataset2 = create_dataloader(\n",
        "    file_path=\"cpp_code_train.txt\",\n",
        "    batch_size=8,\n",
        "    max_seq_len=1000,\n",
        "    vocab=shared_vocab\n",
        ")\n",
        "\n",
        "valloader_1, dataset3 = create_dataloader(\n",
        "    file_path=\"c_code_val.txt\",\n",
        "    batch_size=8,\n",
        "    max_seq_len=1000,\n",
        "    vocab=shared_vocab\n",
        ")\n",
        "\n",
        "valloader_2, dataset4 = create_dataloader(\n",
        "    file_path=\"cpp_code_val.txt\",\n",
        "    batch_size=8,\n",
        "    max_seq_len=1000,\n",
        "    vocab=shared_vocab\n",
        ")\n",
        "\n",
        "\n",
        "model = Model1(src_vocab_size=len(dataset1.vocab),\n",
        "        tgt_vocab_size=len(dataset1.vocab),\n",
        "        d_model=256,\n",
        "        nhead=4,\n",
        "        num_encoder_layers=3,\n",
        "        num_decoder_layers=3)\n",
        "\n",
        "trainer = train_transformer(model, dataloader_1, dataloader_2, valloader_1, valloader_2, dataset1, 2)\n"
      ],
      "metadata": {
        "id": "peaZL8BwYuPr",
        "colab": {
          "base_uri": "https://localhost:8080/",
          "height": 1000
        },
        "outputId": "4700ca4d-ae5b-4427-aeb0-67d5e171f19f"
      },
      "execution_count": null,
      "outputs": [
        {
          "metadata": {
            "tags": null
          },
          "name": "stdout",
          "output_type": "stream",
          "text": [
            "Loaded 96000 sequences\n",
            "Vocabulary size: 10000\n",
            "Average sequence length: 383.7\n",
            "Loaded 49853 sequences\n",
            "Vocabulary size: 10000\n",
            "Average sequence length: 337.9\n",
            "Loaded 96000 sequences\n",
            "Vocabulary size: 10000\n",
            "Average sequence length: 426.3\n",
            "Loaded 49853 sequences\n",
            "Vocabulary size: 10000\n",
            "Average sequence length: 403.4\n",
            "Loaded 12000 sequences\n",
            "Vocabulary size: 10000\n",
            "Average sequence length: 425.3\n",
            "Loaded 6232 sequences\n",
            "Vocabulary size: 10000\n",
            "Average sequence length: 411.7\n",
            "Training on device: cuda\n",
            "Starting training for 2 epochs...\n",
            "Model parameters: 26,237,728\n",
            "\n",
            "============================================================\n",
            "Epoch 1/2\n",
            "============================================================\n"
          ]
        },
        {
          "metadata": {
            "tags": null
          },
          "name": "stderr",
          "output_type": "stream",
          "text": [
            "Training: 0it [00:00, ?it/s]/usr/local/lib/python3.12/dist-packages/torch/nn/functional.py:6041: UserWarning: Support for mismatched key_padding_mask and attn_mask is deprecated. Use same type for both instead.\n",
            "  warnings.warn(\n",
            "Training: 100it [00:51,  1.97it/s, loss_1=9.3312, loss_2=9.3304, acc_1=0.0000, acc_2=0.0003, lr=4.92e-09, ppl_1=11284.36, ppl_2=11276.11]"
          ]
        },
        {
          "metadata": {
            "tags": null
          },
          "name": "stdout",
          "output_type": "stream",
          "text": [
            "\n",
            "Step 200, Batch 100/12000\n",
            "Loss 1: 9.3462, Accuracy: 0.0000\n",
            "Loss 2: 9.3069, Accuracy: 0.0000\n",
            "Learning Rate: 4.92e-09\n"
          ]
        },
        {
          "metadata": {
            "tags": null
          },
          "name": "stderr",
          "output_type": "stream",
          "text": [
            "Training: 200it [01:42,  2.17it/s, loss_1=9.3759, loss_2=9.2824, acc_1=0.0003, acc_2=0.0003, lr=9.86e-09, ppl_1=11800.62, ppl_2=10747.26]"
          ]
        },
        {
          "metadata": {
            "tags": null
          },
          "name": "stdout",
          "output_type": "stream",
          "text": [
            "\n",
            "Step 400, Batch 200/12000\n",
            "Loss 1: 9.3451, Accuracy: 0.0000\n",
            "Loss 2: 9.3068, Accuracy: 0.0000\n",
            "Learning Rate: 9.86e-09\n"
          ]
        },
        {
          "metadata": {
            "tags": null
          },
          "name": "stderr",
          "output_type": "stream",
          "text": [
            "Training: 300it [02:33,  1.67it/s, loss_1=9.3474, loss_2=9.2971, acc_1=0.0000, acc_2=0.0003, lr=1.48e-08, ppl_1=11469.49, ppl_2=10906.37]"
          ]
        },
        {
          "metadata": {
            "tags": null
          },
          "name": "stdout",
          "output_type": "stream",
          "text": [
            "\n",
            "Step 600, Batch 300/12000\n",
            "Loss 1: 9.3438, Accuracy: 0.0000\n",
            "Loss 2: 9.3051, Accuracy: 0.0000\n",
            "Learning Rate: 1.48e-08\n"
          ]
        },
        {
          "metadata": {
            "tags": null
          },
          "name": "stderr",
          "output_type": "stream",
          "text": [
            "Training: 400it [03:28,  2.08it/s, loss_1=9.3725, loss_2=9.3025, acc_1=0.0000, acc_2=0.0003, lr=1.97e-08, ppl_1=11760.96, ppl_2=10965.05]"
          ]
        },
        {
          "metadata": {
            "tags": null
          },
          "name": "stdout",
          "output_type": "stream",
          "text": [
            "\n",
            "Step 800, Batch 400/12000\n",
            "Loss 1: 9.3407, Accuracy: 0.0000\n",
            "Loss 2: 9.3027, Accuracy: 0.0000\n",
            "Learning Rate: 1.97e-08\n"
          ]
        },
        {
          "metadata": {
            "tags": null
          },
          "name": "stderr",
          "output_type": "stream",
          "text": [
            "Training: 500it [04:21,  2.10it/s, loss_1=9.3194, loss_2=9.2647, acc_1=0.0000, acc_2=0.0000, lr=2.47e-08, ppl_1=11152.65, ppl_2=10558.94]"
          ]
        },
        {
          "metadata": {
            "tags": null
          },
          "name": "stdout",
          "output_type": "stream",
          "text": [
            "\n",
            "Step 1000, Batch 500/12000\n",
            "Loss 1: 9.3380, Accuracy: 0.0000\n",
            "Loss 2: 9.2996, Accuracy: 0.0000\n",
            "Learning Rate: 2.47e-08\n"
          ]
        },
        {
          "metadata": {
            "tags": null
          },
          "name": "stderr",
          "output_type": "stream",
          "text": [
            "Training: 600it [05:14,  1.69it/s, loss_1=9.3202, loss_2=9.2623, acc_1=0.0003, acc_2=0.0000, lr=2.96e-08, ppl_1=11160.80, ppl_2=10533.10]"
          ]
        },
        {
          "metadata": {
            "tags": null
          },
          "name": "stdout",
          "output_type": "stream",
          "text": [
            "\n",
            "Step 1200, Batch 600/12000\n",
            "Loss 1: 9.3340, Accuracy: 0.0000\n",
            "Loss 2: 9.2959, Accuracy: 0.0000\n",
            "Learning Rate: 2.96e-08\n"
          ]
        },
        {
          "metadata": {
            "tags": null
          },
          "name": "stderr",
          "output_type": "stream",
          "text": [
            "Training: 700it [06:07,  1.69it/s, loss_1=9.2919, loss_2=9.2550, acc_1=0.0000, acc_2=0.0000, lr=3.46e-08, ppl_1=10849.44, ppl_2=10456.43]"
          ]
        },
        {
          "metadata": {
            "tags": null
          },
          "name": "stdout",
          "output_type": "stream",
          "text": [
            "\n",
            "Step 1400, Batch 700/12000\n",
            "Loss 1: 9.3301, Accuracy: 0.0000\n",
            "Loss 2: 9.2907, Accuracy: 0.0000\n",
            "Learning Rate: 3.46e-08\n"
          ]
        },
        {
          "metadata": {
            "tags": null
          },
          "name": "stderr",
          "output_type": "stream",
          "text": [
            "Training: 800it [06:59,  1.81it/s, loss_1=9.2887, loss_2=9.2313, acc_1=0.0004, acc_2=0.0000, lr=3.95e-08, ppl_1=10815.25, ppl_2=10212.05]"
          ]
        },
        {
          "metadata": {
            "tags": null
          },
          "name": "stdout",
          "output_type": "stream",
          "text": [
            "\n",
            "Step 1600, Batch 800/12000\n",
            "Loss 1: 9.3246, Accuracy: 0.0000\n",
            "Loss 2: 9.2851, Accuracy: 0.0000\n",
            "Learning Rate: 3.95e-08\n"
          ]
        },
        {
          "metadata": {
            "tags": null
          },
          "name": "stderr",
          "output_type": "stream",
          "text": [
            "Training: 900it [07:54,  1.67it/s, loss_1=9.2578, loss_2=9.2251, acc_1=0.0000, acc_2=0.0000, lr=4.44e-08, ppl_1=10486.36, ppl_2=10149.07]"
          ]
        },
        {
          "metadata": {
            "tags": null
          },
          "name": "stdout",
          "output_type": "stream",
          "text": [
            "\n",
            "Step 1800, Batch 900/12000\n",
            "Loss 1: 9.3184, Accuracy: 0.0000\n",
            "Loss 2: 9.2790, Accuracy: 0.0000\n",
            "Learning Rate: 4.44e-08\n"
          ]
        },
        {
          "metadata": {
            "tags": null
          },
          "name": "stderr",
          "output_type": "stream",
          "text": [
            "Training: 1000it [08:46,  1.97it/s, loss_1=9.2842, loss_2=9.2326, acc_1=0.0000, acc_2=0.0000, lr=4.94e-08, ppl_1=10766.96, ppl_2=10224.64]"
          ]
        },
        {
          "metadata": {
            "tags": null
          },
          "name": "stdout",
          "output_type": "stream",
          "text": [
            "\n",
            "Step 2000, Batch 1000/12000\n",
            "Loss 1: 9.3110, Accuracy: 0.0000\n",
            "Loss 2: 9.2723, Accuracy: 0.0000\n",
            "Learning Rate: 4.94e-08\n"
          ]
        },
        {
          "metadata": {
            "tags": null
          },
          "name": "stderr",
          "output_type": "stream",
          "text": [
            "Training: 1100it [09:40,  1.91it/s, loss_1=9.2125, loss_2=9.1500, acc_1=0.0000, acc_2=0.0000, lr=5.43e-08, ppl_1=10021.27, ppl_2=9414.48]"
          ]
        },
        {
          "metadata": {
            "tags": null
          },
          "name": "stdout",
          "output_type": "stream",
          "text": [
            "\n",
            "Step 2200, Batch 1100/12000\n",
            "Loss 1: 9.3031, Accuracy: 0.0000\n",
            "Loss 2: 9.2645, Accuracy: 0.0000\n",
            "Learning Rate: 5.43e-08\n"
          ]
        },
        {
          "metadata": {
            "tags": null
          },
          "name": "stderr",
          "output_type": "stream",
          "text": [
            "Training: 1200it [10:34,  1.58it/s, loss_1=9.1858, loss_2=9.1484, acc_1=0.0000, acc_2=0.0002, lr=5.93e-08, ppl_1=9757.56, ppl_2=9399.29]"
          ]
        },
        {
          "metadata": {
            "tags": null
          },
          "name": "stdout",
          "output_type": "stream",
          "text": [
            "\n",
            "Step 2400, Batch 1200/12000\n",
            "Loss 1: 9.2944, Accuracy: 0.0000\n",
            "Loss 2: 9.2560, Accuracy: 0.0000\n",
            "Learning Rate: 5.93e-08\n"
          ]
        },
        {
          "metadata": {
            "tags": null
          },
          "name": "stderr",
          "output_type": "stream",
          "text": [
            "Training: 1300it [11:25,  1.83it/s, loss_1=9.1819, loss_2=9.1308, acc_1=0.0002, acc_2=0.0000, lr=6.42e-08, ppl_1=9719.45, ppl_2=9235.75]"
          ]
        },
        {
          "metadata": {
            "tags": null
          },
          "name": "stdout",
          "output_type": "stream",
          "text": [
            "\n",
            "Step 2600, Batch 1300/12000\n",
            "Loss 1: 9.2851, Accuracy: 0.0000\n",
            "Loss 2: 9.2469, Accuracy: 0.0000\n",
            "Learning Rate: 6.42e-08\n"
          ]
        },
        {
          "metadata": {
            "tags": null
          },
          "name": "stderr",
          "output_type": "stream",
          "text": [
            "Training: 1400it [12:16,  1.85it/s, loss_1=9.1323, loss_2=9.1092, acc_1=0.0000, acc_2=0.0007, lr=6.92e-08, ppl_1=9249.11, ppl_2=9037.64]"
          ]
        },
        {
          "metadata": {
            "tags": null
          },
          "name": "stdout",
          "output_type": "stream",
          "text": [
            "\n",
            "Step 2800, Batch 1400/12000\n",
            "Loss 1: 9.2747, Accuracy: 0.0001\n",
            "Loss 2: 9.2372, Accuracy: 0.0000\n",
            "Learning Rate: 6.92e-08\n"
          ]
        },
        {
          "metadata": {
            "tags": null
          },
          "name": "stderr",
          "output_type": "stream",
          "text": [
            "Training: 1500it [13:09,  1.79it/s, loss_1=9.0716, loss_2=9.0471, acc_1=0.0008, acc_2=0.0007, lr=7.41e-08, ppl_1=8704.12, ppl_2=8494.11]"
          ]
        },
        {
          "metadata": {
            "tags": null
          },
          "name": "stdout",
          "output_type": "stream",
          "text": [
            "\n",
            "Step 3000, Batch 1500/12000\n",
            "Loss 1: 9.2638, Accuracy: 0.0001\n",
            "Loss 2: 9.2267, Accuracy: 0.0000\n",
            "Learning Rate: 7.41e-08\n"
          ]
        },
        {
          "metadata": {
            "tags": null
          },
          "name": "stderr",
          "output_type": "stream",
          "text": [
            "Training: 1600it [14:02,  2.02it/s, loss_1=9.0581, loss_2=9.0596, acc_1=0.0008, acc_2=0.0003, lr=7.90e-08, ppl_1=8587.67, ppl_2=8600.67]"
          ]
        },
        {
          "metadata": {
            "tags": null
          },
          "name": "stdout",
          "output_type": "stream",
          "text": [
            "\n",
            "Step 3200, Batch 1600/12000\n",
            "Loss 1: 9.2522, Accuracy: 0.0001\n",
            "Loss 2: 9.2156, Accuracy: 0.0000\n",
            "Learning Rate: 7.90e-08\n"
          ]
        },
        {
          "metadata": {
            "tags": null
          },
          "name": "stderr",
          "output_type": "stream",
          "text": [
            "Training: 1700it [14:54,  2.08it/s, loss_1=8.9938, loss_2=9.0410, acc_1=0.0019, acc_2=0.0000, lr=8.40e-08, ppl_1=8052.84, ppl_2=8442.52]"
          ]
        },
        {
          "metadata": {
            "tags": null
          },
          "name": "stdout",
          "output_type": "stream",
          "text": [
            "\n",
            "Step 3400, Batch 1700/12000\n",
            "Loss 1: 9.2401, Accuracy: 0.0002\n",
            "Loss 2: 9.2036, Accuracy: 0.0000\n",
            "Learning Rate: 8.40e-08\n"
          ]
        },
        {
          "metadata": {
            "tags": null
          },
          "name": "stderr",
          "output_type": "stream",
          "text": [
            "Training: 1800it [15:47,  1.78it/s, loss_1=8.9887, loss_2=8.9669, acc_1=0.0053, acc_2=0.0002, lr=8.89e-08, ppl_1=8012.29, ppl_2=7839.35]"
          ]
        },
        {
          "metadata": {
            "tags": null
          },
          "name": "stdout",
          "output_type": "stream",
          "text": [
            "\n",
            "Step 3600, Batch 1800/12000\n",
            "Loss 1: 9.2273, Accuracy: 0.0004\n",
            "Loss 2: 9.1914, Accuracy: 0.0000\n",
            "Learning Rate: 8.89e-08\n"
          ]
        },
        {
          "metadata": {
            "tags": null
          },
          "name": "stderr",
          "output_type": "stream",
          "text": [
            "Training: 1900it [16:40,  2.03it/s, loss_1=8.9963, loss_2=8.9412, acc_1=0.0092, acc_2=0.0035, lr=9.39e-08, ppl_1=8073.54, ppl_2=7640.54]"
          ]
        },
        {
          "metadata": {
            "tags": null
          },
          "name": "stdout",
          "output_type": "stream",
          "text": [
            "\n",
            "Step 3800, Batch 1900/12000\n",
            "Loss 1: 9.2141, Accuracy: 0.0006\n",
            "Loss 2: 9.1785, Accuracy: 0.0000\n",
            "Learning Rate: 9.39e-08\n"
          ]
        },
        {
          "metadata": {
            "tags": null
          },
          "name": "stderr",
          "output_type": "stream",
          "text": [
            "Training: 2000it [17:33,  1.94it/s, loss_1=8.9202, loss_2=8.8818, acc_1=0.0106, acc_2=0.0062, lr=9.88e-08, ppl_1=7481.87, ppl_2=7200.09]"
          ]
        },
        {
          "metadata": {
            "tags": null
          },
          "name": "stdout",
          "output_type": "stream",
          "text": [
            "\n",
            "Step 4000, Batch 2000/12000\n",
            "Loss 1: 9.2003, Accuracy: 0.0011\n",
            "Loss 2: 9.1649, Accuracy: 0.0000\n",
            "Learning Rate: 9.88e-08\n"
          ]
        },
        {
          "metadata": {
            "tags": null
          },
          "name": "stderr",
          "output_type": "stream",
          "text": [
            "Training: 2100it [18:25,  1.97it/s, loss_1=8.8925, loss_2=8.8255, acc_1=0.0117, acc_2=0.0111, lr=9.65e-08, ppl_1=7277.12, ppl_2=6805.87]"
          ]
        },
        {
          "metadata": {
            "tags": null
          },
          "name": "stdout",
          "output_type": "stream",
          "text": [
            "\n",
            "Step 4200, Batch 2100/12000\n",
            "Loss 1: 9.1857, Accuracy: 0.0017\n",
            "Loss 2: 9.1513, Accuracy: 0.0000\n",
            "Learning Rate: 9.65e-08\n"
          ]
        },
        {
          "metadata": {
            "tags": null
          },
          "name": "stderr",
          "output_type": "stream",
          "text": [
            "Training: 2200it [19:18,  2.03it/s, loss_1=8.8388, loss_2=8.8232, acc_1=0.0168, acc_2=0.0135, lr=9.42e-08, ppl_1=6896.93, ppl_2=6789.76]"
          ]
        },
        {
          "metadata": {
            "tags": null
          },
          "name": "stdout",
          "output_type": "stream",
          "text": [
            "\n",
            "Step 4400, Batch 2200/12000\n",
            "Loss 1: 9.1709, Accuracy: 0.0025\n",
            "Loss 2: 9.1368, Accuracy: 0.0000\n",
            "Learning Rate: 9.42e-08\n"
          ]
        },
        {
          "metadata": {
            "tags": null
          },
          "name": "stderr",
          "output_type": "stream",
          "text": [
            "Training: 2300it [20:11,  2.21it/s, loss_1=8.7998, loss_2=8.7607, acc_1=0.0265, acc_2=0.0293, lr=9.22e-08, ppl_1=6633.06, ppl_2=6378.73]"
          ]
        },
        {
          "metadata": {
            "tags": null
          },
          "name": "stdout",
          "output_type": "stream",
          "text": [
            "\n",
            "Step 4600, Batch 2300/12000\n",
            "Loss 1: 9.1559, Accuracy: 0.0035\n",
            "Loss 2: 9.1221, Accuracy: 0.0000\n",
            "Learning Rate: 9.22e-08\n"
          ]
        },
        {
          "metadata": {
            "tags": null
          },
          "name": "stderr",
          "output_type": "stream",
          "text": [
            "Training: 2400it [21:03,  1.72it/s, loss_1=8.8417, loss_2=8.7263, acc_1=0.0267, acc_2=0.0278, lr=9.02e-08, ppl_1=6916.45, ppl_2=6163.04]"
          ]
        },
        {
          "metadata": {
            "tags": null
          },
          "name": "stdout",
          "output_type": "stream",
          "text": [
            "\n",
            "Step 4800, Batch 2400/12000\n",
            "Loss 1: 9.1409, Accuracy: 0.0047\n",
            "Loss 2: 9.1072, Accuracy: 0.0000\n",
            "Learning Rate: 9.02e-08\n"
          ]
        },
        {
          "metadata": {
            "tags": null
          },
          "name": "stderr",
          "output_type": "stream",
          "text": [
            "Training: 2500it [21:57,  1.72it/s, loss_1=8.6804, loss_2=8.6909, acc_1=0.0521, acc_2=0.0283, lr=8.84e-08, ppl_1=5886.32, ppl_2=5948.28]"
          ]
        },
        {
          "metadata": {
            "tags": null
          },
          "name": "stdout",
          "output_type": "stream",
          "text": [
            "\n",
            "Step 5000, Batch 2500/12000\n",
            "Loss 1: 9.1258, Accuracy: 0.0060\n",
            "Loss 2: 9.0925, Accuracy: 0.0000\n",
            "Learning Rate: 8.84e-08\n"
          ]
        },
        {
          "metadata": {
            "tags": null
          },
          "name": "stderr",
          "output_type": "stream",
          "text": [
            "Training: 2600it [22:50,  1.61it/s, loss_1=8.7387, loss_2=8.6931, acc_1=0.0557, acc_2=0.0421, lr=8.67e-08, ppl_1=6239.62, ppl_2=5961.34]"
          ]
        },
        {
          "metadata": {
            "tags": null
          },
          "name": "stdout",
          "output_type": "stream",
          "text": [
            "\n",
            "Step 5200, Batch 2600/12000\n",
            "Loss 1: 9.1108, Accuracy: 0.0076\n",
            "Loss 2: 9.0779, Accuracy: 0.0000\n",
            "Learning Rate: 8.67e-08\n"
          ]
        },
        {
          "metadata": {
            "tags": null
          },
          "name": "stderr",
          "output_type": "stream",
          "text": [
            "Training: 2700it [23:42,  2.03it/s, loss_1=8.7138, loss_2=8.6533, acc_1=0.0447, acc_2=0.0431, lr=8.51e-08, ppl_1=6086.18, ppl_2=5728.80]"
          ]
        },
        {
          "metadata": {
            "tags": null
          },
          "name": "stdout",
          "output_type": "stream",
          "text": [
            "\n",
            "Step 5400, Batch 2700/12000\n",
            "Loss 1: 9.0957, Accuracy: 0.0095\n",
            "Loss 2: 9.0630, Accuracy: 0.0000\n",
            "Learning Rate: 8.51e-08\n"
          ]
        },
        {
          "metadata": {
            "tags": null
          },
          "name": "stderr",
          "output_type": "stream",
          "text": [
            "Training: 2800it [24:35,  2.20it/s, loss_1=8.6307, loss_2=8.6377, acc_1=0.0745, acc_2=0.0446, lr=8.35e-08, ppl_1=5601.21, ppl_2=5640.39]"
          ]
        },
        {
          "metadata": {
            "tags": null
          },
          "name": "stdout",
          "output_type": "stream",
          "text": [
            "\n",
            "Step 5600, Batch 2800/12000\n",
            "Loss 1: 9.0809, Accuracy: 0.0115\n",
            "Loss 2: 9.0482, Accuracy: 0.0000\n",
            "Learning Rate: 8.35e-08\n"
          ]
        },
        {
          "metadata": {
            "tags": null
          },
          "name": "stderr",
          "output_type": "stream",
          "text": [
            "Training: 2900it [25:29,  1.89it/s, loss_1=8.6330, loss_2=8.6365, acc_1=0.0692, acc_2=0.0447, lr=8.21e-08, ppl_1=5613.90, ppl_2=5633.83]"
          ]
        },
        {
          "metadata": {
            "tags": null
          },
          "name": "stdout",
          "output_type": "stream",
          "text": [
            "\n",
            "Step 5800, Batch 2900/12000\n",
            "Loss 1: 9.0662, Accuracy: 0.0136\n",
            "Loss 2: 9.0337, Accuracy: 0.0000\n",
            "Learning Rate: 8.21e-08\n"
          ]
        },
        {
          "metadata": {
            "tags": null
          },
          "name": "stderr",
          "output_type": "stream",
          "text": [
            "Training: 3000it [26:23,  2.03it/s, loss_1=8.6509, loss_2=8.6130, acc_1=0.0793, acc_2=0.0616, lr=8.07e-08, ppl_1=5715.13, ppl_2=5502.53]"
          ]
        },
        {
          "metadata": {
            "tags": null
          },
          "name": "stdout",
          "output_type": "stream",
          "text": [
            "\n",
            "Step 6000, Batch 3000/12000\n",
            "Loss 1: 9.0517, Accuracy: 0.0158\n",
            "Loss 2: 9.0191, Accuracy: 0.0000\n",
            "Learning Rate: 8.07e-08\n"
          ]
        },
        {
          "metadata": {
            "tags": null
          },
          "name": "stderr",
          "output_type": "stream",
          "text": [
            "Training: 3100it [27:18,  1.73it/s, loss_1=8.5619, loss_2=8.5206, acc_1=0.0952, acc_2=0.0714, lr=7.94e-08, ppl_1=5228.65, ppl_2=5017.23]"
          ]
        },
        {
          "metadata": {
            "tags": null
          },
          "name": "stdout",
          "output_type": "stream",
          "text": [
            "\n",
            "Step 6200, Batch 3100/12000\n",
            "Loss 1: 9.0376, Accuracy: 0.0180\n",
            "Loss 2: 9.0049, Accuracy: 0.0000\n",
            "Learning Rate: 7.94e-08\n"
          ]
        },
        {
          "output_type": "stream",
          "name": "stderr",
          "text": [
            "Training: 3200it [28:09,  2.16it/s, loss_1=8.5201, loss_2=8.4854, acc_1=0.0829, acc_2=0.0818, lr=7.81e-08, ppl_1=5014.44, ppl_2=4843.56]"
          ]
        },
        {
          "output_type": "stream",
          "name": "stdout",
          "text": [
            "\n",
            "Step 6400, Batch 3200/12000\n",
            "Loss 1: 9.0235, Accuracy: 0.0201\n",
            "Loss 2: 8.9908, Accuracy: 0.0000\n",
            "Learning Rate: 7.81e-08\n"
          ]
        },
        {
          "output_type": "stream",
          "name": "stderr",
          "text": [
            "Training: 3300it [29:02,  2.10it/s, loss_1=8.5831, loss_2=8.3878, acc_1=0.0953, acc_2=0.1013, lr=7.69e-08, ppl_1=5340.70, ppl_2=4393.05]"
          ]
        },
        {
          "output_type": "stream",
          "name": "stdout",
          "text": [
            "\n",
            "Step 6600, Batch 3300/12000\n",
            "Loss 1: 9.0098, Accuracy: 0.0222\n",
            "Loss 2: 8.9769, Accuracy: 0.0000\n",
            "Learning Rate: 7.69e-08\n"
          ]
        },
        {
          "output_type": "stream",
          "name": "stderr",
          "text": [
            "Training: 3400it [29:55,  2.20it/s, loss_1=8.5743, loss_2=8.4134, acc_1=0.0900, acc_2=0.0955, lr=7.58e-08, ppl_1=5293.93, ppl_2=4507.01]"
          ]
        },
        {
          "output_type": "stream",
          "name": "stdout",
          "text": [
            "\n",
            "Step 6800, Batch 3400/12000\n",
            "Loss 1: 8.9962, Accuracy: 0.0242\n",
            "Loss 2: 8.9631, Accuracy: 0.0000\n",
            "Learning Rate: 7.58e-08\n"
          ]
        },
        {
          "output_type": "stream",
          "name": "stderr",
          "text": [
            "Training: 3500it [30:47,  1.63it/s, loss_1=8.6086, loss_2=8.5601, acc_1=0.0862, acc_2=0.0668, lr=7.47e-08, ppl_1=5478.58, ppl_2=5219.15]"
          ]
        },
        {
          "output_type": "stream",
          "name": "stdout",
          "text": [
            "\n",
            "Step 7000, Batch 3500/12000\n",
            "Loss 1: 8.9827, Accuracy: 0.0261\n",
            "Loss 2: 8.9495, Accuracy: 0.0000\n",
            "Learning Rate: 7.47e-08\n"
          ]
        },
        {
          "output_type": "stream",
          "name": "stderr",
          "text": [
            "Training: 3600it [31:43,  1.89it/s, loss_1=8.5420, loss_2=8.4353, acc_1=0.0918, acc_2=0.0854, lr=7.37e-08, ppl_1=5125.64, ppl_2=4607.02]"
          ]
        },
        {
          "output_type": "stream",
          "name": "stdout",
          "text": [
            "\n",
            "Step 7200, Batch 3600/12000\n",
            "Loss 1: 8.9696, Accuracy: 0.0279\n",
            "Loss 2: 8.9362, Accuracy: 0.0000\n",
            "Learning Rate: 7.37e-08\n"
          ]
        },
        {
          "output_type": "stream",
          "name": "stderr",
          "text": [
            "Training: 3700it [32:37,  2.13it/s, loss_1=8.5221, loss_2=8.4384, acc_1=0.0895, acc_2=0.0855, lr=7.27e-08, ppl_1=5024.65, ppl_2=4621.02]"
          ]
        },
        {
          "output_type": "stream",
          "name": "stdout",
          "text": [
            "\n",
            "Step 7400, Batch 3700/12000\n",
            "Loss 1: 8.9567, Accuracy: 0.0297\n",
            "Loss 2: 8.9232, Accuracy: 0.0000\n",
            "Learning Rate: 7.27e-08\n"
          ]
        },
        {
          "output_type": "stream",
          "name": "stderr",
          "text": [
            "Training: 3800it [33:30,  1.73it/s, loss_1=8.4085, loss_2=8.4906, acc_1=0.1017, acc_2=0.0769, lr=7.17e-08, ppl_1=4484.85, ppl_2=4868.86]"
          ]
        },
        {
          "output_type": "stream",
          "name": "stdout",
          "text": [
            "\n",
            "Step 7600, Batch 3800/12000\n",
            "Loss 1: 8.9439, Accuracy: 0.0314\n",
            "Loss 2: 8.9102, Accuracy: 0.0000\n",
            "Learning Rate: 7.17e-08\n"
          ]
        },
        {
          "output_type": "stream",
          "name": "stderr",
          "text": [
            "Training: 3900it [34:22,  1.90it/s, loss_1=8.4931, loss_2=8.3712, acc_1=0.0950, acc_2=0.0978, lr=7.08e-08, ppl_1=4881.22, ppl_2=4320.79]"
          ]
        },
        {
          "output_type": "stream",
          "name": "stdout",
          "text": [
            "\n",
            "Step 7800, Batch 3900/12000\n",
            "Loss 1: 8.9313, Accuracy: 0.0330\n",
            "Loss 2: 8.8975, Accuracy: 0.0000\n",
            "Learning Rate: 7.08e-08\n"
          ]
        },
        {
          "output_type": "stream",
          "name": "stderr",
          "text": [
            "Training: 4000it [35:15,  1.97it/s, loss_1=8.4324, loss_2=8.3795, acc_1=0.0957, acc_2=0.0883, lr=6.99e-08, ppl_1=4593.74, ppl_2=4356.82]"
          ]
        },
        {
          "output_type": "stream",
          "name": "stdout",
          "text": [
            "\n",
            "Step 8000, Batch 4000/12000\n",
            "Loss 1: 8.9191, Accuracy: 0.0345\n",
            "Loss 2: 8.8851, Accuracy: 0.0000\n",
            "Learning Rate: 6.99e-08\n"
          ]
        },
        {
          "output_type": "stream",
          "name": "stderr",
          "text": [
            "Training: 4100it [36:08,  1.61it/s, loss_1=8.4404, loss_2=8.4675, acc_1=0.0873, acc_2=0.0808, lr=6.90e-08, ppl_1=4630.30, ppl_2=4757.70]"
          ]
        },
        {
          "output_type": "stream",
          "name": "stdout",
          "text": [
            "\n",
            "Step 8200, Batch 4100/12000\n",
            "Loss 1: 8.9071, Accuracy: 0.0359\n",
            "Loss 2: 8.8729, Accuracy: 0.0000\n",
            "Learning Rate: 6.90e-08\n"
          ]
        },
        {
          "output_type": "stream",
          "name": "stderr",
          "text": [
            "Training: 4200it [37:02,  1.79it/s, loss_1=8.3880, loss_2=8.3546, acc_1=0.0903, acc_2=0.0812, lr=6.82e-08, ppl_1=4393.82, ppl_2=4249.60]"
          ]
        },
        {
          "output_type": "stream",
          "name": "stdout",
          "text": [
            "\n",
            "Step 8400, Batch 4200/12000\n",
            "Loss 1: 8.8951, Accuracy: 0.0374\n",
            "Loss 2: 8.8610, Accuracy: 0.0000\n",
            "Learning Rate: 6.82e-08\n"
          ]
        },
        {
          "output_type": "stream",
          "name": "stderr",
          "text": [
            "Training: 4300it [37:56,  1.75it/s, loss_1=8.4154, loss_2=8.4489, acc_1=0.0900, acc_2=0.0812, lr=6.74e-08, ppl_1=4516.01, ppl_2=4669.90]"
          ]
        },
        {
          "output_type": "stream",
          "name": "stdout",
          "text": [
            "\n",
            "Step 8600, Batch 4300/12000\n",
            "Loss 1: 8.8835, Accuracy: 0.0387\n",
            "Loss 2: 8.8495, Accuracy: 0.0000\n",
            "Learning Rate: 6.74e-08\n"
          ]
        },
        {
          "output_type": "stream",
          "name": "stderr",
          "text": [
            "Training: 4400it [38:50,  2.10it/s, loss_1=8.3611, loss_2=8.2987, acc_1=0.0987, acc_2=0.0901, lr=6.66e-08, ppl_1=4277.52, ppl_2=4018.60]"
          ]
        },
        {
          "output_type": "stream",
          "name": "stdout",
          "text": [
            "\n",
            "Step 8800, Batch 4400/12000\n",
            "Loss 1: 8.8722, Accuracy: 0.0399\n",
            "Loss 2: 8.8382, Accuracy: 0.0000\n",
            "Learning Rate: 6.66e-08\n"
          ]
        },
        {
          "output_type": "stream",
          "name": "stderr",
          "text": [
            "Training: 4500it [39:44,  2.14it/s, loss_1=8.3819, loss_2=8.1980, acc_1=0.1002, acc_2=0.1130, lr=6.59e-08, ppl_1=4367.42, ppl_2=3633.67]"
          ]
        },
        {
          "output_type": "stream",
          "name": "stdout",
          "text": [
            "\n",
            "Step 9000, Batch 4500/12000\n",
            "Loss 1: 8.8610, Accuracy: 0.0411\n",
            "Loss 2: 8.8267, Accuracy: 0.0000\n",
            "Learning Rate: 6.59e-08\n"
          ]
        },
        {
          "output_type": "stream",
          "name": "stderr",
          "text": [
            "Training: 4600it [40:37,  1.95it/s, loss_1=8.4416, loss_2=8.2464, acc_1=0.0797, acc_2=0.1024, lr=6.52e-08, ppl_1=4636.16, ppl_2=3813.98]"
          ]
        },
        {
          "output_type": "stream",
          "name": "stdout",
          "text": [
            "\n",
            "Step 9200, Batch 4600/12000\n",
            "Loss 1: 8.8501, Accuracy: 0.0422\n",
            "Loss 2: 8.8155, Accuracy: 0.0000\n",
            "Learning Rate: 6.52e-08\n"
          ]
        },
        {
          "output_type": "stream",
          "name": "stderr",
          "text": [
            "Training: 4700it [41:29,  1.58it/s, loss_1=8.3381, loss_2=8.2428, acc_1=0.1034, acc_2=0.0996, lr=6.45e-08, ppl_1=4180.10, ppl_2=3800.13]"
          ]
        },
        {
          "output_type": "stream",
          "name": "stdout",
          "text": [
            "\n",
            "Step 9400, Batch 4700/12000\n",
            "Loss 1: 8.8391, Accuracy: 0.0433\n",
            "Loss 2: 8.8045, Accuracy: 0.0000\n",
            "Learning Rate: 6.45e-08\n"
          ]
        },
        {
          "output_type": "stream",
          "name": "stderr",
          "text": [
            "Training: 4800it [42:23,  1.65it/s, loss_1=8.4088, loss_2=8.2785, acc_1=0.0838, acc_2=0.0904, lr=6.38e-08, ppl_1=4486.58, ppl_2=3938.25]"
          ]
        },
        {
          "output_type": "stream",
          "name": "stdout",
          "text": [
            "\n",
            "Step 9600, Batch 4800/12000\n",
            "Loss 1: 8.8285, Accuracy: 0.0443\n",
            "Loss 2: 8.7936, Accuracy: 0.0000\n",
            "Learning Rate: 6.38e-08\n"
          ]
        },
        {
          "output_type": "stream",
          "name": "stderr",
          "text": [
            "Training: 4900it [43:15,  1.94it/s, loss_1=8.3156, loss_2=8.3130, acc_1=0.0919, acc_2=0.0943, lr=6.31e-08, ppl_1=4087.11, ppl_2=4076.51]"
          ]
        },
        {
          "output_type": "stream",
          "name": "stdout",
          "text": [
            "\n",
            "Step 9800, Batch 4900/12000\n",
            "Loss 1: 8.8182, Accuracy: 0.0453\n",
            "Loss 2: 8.7829, Accuracy: 0.0000\n",
            "Learning Rate: 6.31e-08\n"
          ]
        },
        {
          "output_type": "stream",
          "name": "stderr",
          "text": [
            "Training: 5000it [44:09,  1.67it/s, loss_1=8.3474, loss_2=8.2507, acc_1=0.0875, acc_2=0.0974, lr=6.25e-08, ppl_1=4219.38, ppl_2=3830.28]"
          ]
        },
        {
          "output_type": "stream",
          "name": "stdout",
          "text": [
            "\n",
            "Step 10000, Batch 5000/12000\n",
            "Loss 1: 8.8078, Accuracy: 0.0463\n",
            "Loss 2: 8.7726, Accuracy: 0.0000\n",
            "Learning Rate: 6.25e-08\n"
          ]
        },
        {
          "output_type": "stream",
          "name": "stderr",
          "text": [
            "Training: 5100it [45:03,  1.93it/s, loss_1=8.2195, loss_2=8.2583, acc_1=0.1046, acc_2=0.0989, lr=6.19e-08, ppl_1=3712.76, ppl_2=3859.45]"
          ]
        },
        {
          "output_type": "stream",
          "name": "stdout",
          "text": [
            "\n",
            "Step 10200, Batch 5100/12000\n",
            "Loss 1: 8.7978, Accuracy: 0.0472\n",
            "Loss 2: 8.7626, Accuracy: 0.0000\n",
            "Learning Rate: 6.19e-08\n"
          ]
        },
        {
          "output_type": "stream",
          "name": "stderr",
          "text": [
            "Training: 5200it [45:56,  1.56it/s, loss_1=8.2394, loss_2=8.2519, acc_1=0.0954, acc_2=0.0986, lr=6.13e-08, ppl_1=3787.19, ppl_2=3835.07]"
          ]
        },
        {
          "output_type": "stream",
          "name": "stdout",
          "text": [
            "\n",
            "Step 10400, Batch 5200/12000\n",
            "Loss 1: 8.7879, Accuracy: 0.0481\n",
            "Loss 2: 8.7526, Accuracy: 0.0000\n",
            "Learning Rate: 6.13e-08\n"
          ]
        },
        {
          "output_type": "stream",
          "name": "stderr",
          "text": [
            "Training: 5300it [46:48,  1.80it/s, loss_1=8.2744, loss_2=8.2850, acc_1=0.0939, acc_2=0.1005, lr=6.07e-08, ppl_1=3922.36, ppl_2=3963.80]"
          ]
        },
        {
          "output_type": "stream",
          "name": "stdout",
          "text": [
            "\n",
            "Step 10600, Batch 5300/12000\n",
            "Loss 1: 8.7780, Accuracy: 0.0490\n",
            "Loss 2: 8.7426, Accuracy: 0.0000\n",
            "Learning Rate: 6.07e-08\n"
          ]
        },
        {
          "output_type": "stream",
          "name": "stderr",
          "text": [
            "Training: 5400it [47:42,  1.76it/s, loss_1=8.2408, loss_2=8.3354, acc_1=0.0905, acc_2=0.0898, lr=6.01e-08, ppl_1=3792.61, ppl_2=4168.73]"
          ]
        },
        {
          "output_type": "stream",
          "name": "stdout",
          "text": [
            "\n",
            "Step 10800, Batch 5400/12000\n",
            "Loss 1: 8.7685, Accuracy: 0.0498\n",
            "Loss 2: 8.7329, Accuracy: 0.0000\n",
            "Learning Rate: 6.01e-08\n"
          ]
        },
        {
          "output_type": "stream",
          "name": "stderr",
          "text": [
            "Training: 5500it [48:36,  1.64it/s, loss_1=8.3407, loss_2=8.2462, acc_1=0.0771, acc_2=0.1024, lr=5.96e-08, ppl_1=4191.20, ppl_2=3813.13]"
          ]
        },
        {
          "output_type": "stream",
          "name": "stdout",
          "text": [
            "\n",
            "Step 11000, Batch 5500/12000\n",
            "Loss 1: 8.7591, Accuracy: 0.0506\n",
            "Loss 2: 8.7233, Accuracy: 0.0000\n",
            "Learning Rate: 5.96e-08\n"
          ]
        },
        {
          "output_type": "stream",
          "name": "stderr",
          "text": [
            "Training: 5600it [49:29,  2.05it/s, loss_1=8.2492, loss_2=8.2499, acc_1=0.0935, acc_2=0.0981, lr=5.91e-08, ppl_1=3824.39, ppl_2=3827.33]"
          ]
        },
        {
          "output_type": "stream",
          "name": "stdout",
          "text": [
            "\n",
            "Step 11200, Batch 5600/12000\n",
            "Loss 1: 8.7499, Accuracy: 0.0513\n",
            "Loss 2: 8.7137, Accuracy: 0.0000\n",
            "Learning Rate: 5.91e-08\n"
          ]
        },
        {
          "output_type": "stream",
          "name": "stderr",
          "text": [
            "Training: 5700it [50:22,  1.83it/s, loss_1=8.2717, loss_2=8.1661, acc_1=0.0978, acc_2=0.1115, lr=5.85e-08, ppl_1=3911.44, ppl_2=3519.58]"
          ]
        },
        {
          "output_type": "stream",
          "name": "stdout",
          "text": [
            "\n",
            "Step 11400, Batch 5700/12000\n",
            "Loss 1: 8.7409, Accuracy: 0.0520\n",
            "Loss 2: 8.7043, Accuracy: 0.0000\n",
            "Learning Rate: 5.85e-08\n"
          ]
        },
        {
          "output_type": "stream",
          "name": "stderr",
          "text": [
            "Training: 5800it [51:15,  1.85it/s, loss_1=8.2497, loss_2=8.1638, acc_1=0.0925, acc_2=0.1020, lr=5.80e-08, ppl_1=3826.58, ppl_2=3511.48]"
          ]
        },
        {
          "output_type": "stream",
          "name": "stdout",
          "text": [
            "\n",
            "Step 11600, Batch 5800/12000\n",
            "Loss 1: 8.7318, Accuracy: 0.0527\n",
            "Loss 2: 8.6953, Accuracy: 0.0000\n",
            "Learning Rate: 5.80e-08\n"
          ]
        },
        {
          "output_type": "stream",
          "name": "stderr",
          "text": [
            "Training: 5900it [52:09,  2.33it/s, loss_1=8.2667, loss_2=8.0460, acc_1=0.0894, acc_2=0.1250, lr=5.75e-08, ppl_1=3891.89, ppl_2=3121.36]"
          ]
        },
        {
          "output_type": "stream",
          "name": "stdout",
          "text": [
            "\n",
            "Step 11800, Batch 5900/12000\n",
            "Loss 1: 8.7231, Accuracy: 0.0534\n",
            "Loss 2: 8.6863, Accuracy: 0.0000\n",
            "Learning Rate: 5.75e-08\n"
          ]
        },
        {
          "output_type": "stream",
          "name": "stderr",
          "text": [
            "Training: 6000it [53:02,  1.52it/s, loss_1=8.2156, loss_2=8.2412, acc_1=0.0854, acc_2=0.0934, lr=5.71e-08, ppl_1=3698.18, ppl_2=3794.21]"
          ]
        },
        {
          "output_type": "stream",
          "name": "stdout",
          "text": [
            "\n",
            "Step 12000, Batch 6000/12000\n",
            "Loss 1: 8.7145, Accuracy: 0.0541\n",
            "Loss 2: 8.6774, Accuracy: 0.0000\n",
            "Learning Rate: 5.71e-08\n"
          ]
        },
        {
          "output_type": "stream",
          "name": "stderr",
          "text": [
            "Training: 6100it [53:54,  1.83it/s, loss_1=8.1526, loss_2=8.0922, acc_1=0.0926, acc_2=0.1152, lr=5.66e-08, ppl_1=3472.36, ppl_2=3268.71]"
          ]
        },
        {
          "output_type": "stream",
          "name": "stdout",
          "text": [
            "\n",
            "Step 12200, Batch 6100/12000\n",
            "Loss 1: 8.7062, Accuracy: 0.0547\n",
            "Loss 2: 8.6687, Accuracy: 0.0000\n",
            "Learning Rate: 5.66e-08\n"
          ]
        },
        {
          "output_type": "stream",
          "name": "stderr",
          "text": [
            "Training: 6200it [54:46,  1.92it/s, loss_1=8.1051, loss_2=8.1060, acc_1=0.0999, acc_2=0.1137, lr=5.61e-08, ppl_1=3311.20, ppl_2=3314.37]"
          ]
        },
        {
          "output_type": "stream",
          "name": "stdout",
          "text": [
            "\n",
            "Step 12400, Batch 6200/12000\n",
            "Loss 1: 8.6979, Accuracy: 0.0553\n",
            "Loss 2: 8.6602, Accuracy: 0.0000\n",
            "Learning Rate: 5.61e-08\n"
          ]
        },
        {
          "output_type": "stream",
          "name": "stderr",
          "text": [
            "Training: 6232it [55:03,  1.89it/s, loss_1=8.2332, loss_2=8.2157, acc_1=0.1000, acc_2=0.1029, lr=5.60e-08, ppl_1=3763.69, ppl_2=3698.47]\n"
          ]
        },
        {
          "output_type": "stream",
          "name": "stdout",
          "text": [
            "\n",
            "Running validation...\n"
          ]
        },
        {
          "output_type": "stream",
          "name": "stderr",
          "text": [
            "\rValidating: 0it [00:00, ?it/s]/usr/local/lib/python3.12/dist-packages/torch/nn/modules/transformer.py:515: UserWarning: The PyTorch API of nested tensors is in prototype stage and will change in the near future. We recommend specifying layout=torch.jagged when constructing a nested tensor, as this layout receives active development, has better operator coverage, and works with torch.compile. (Triggered internally at /pytorch/aten/src/ATen/NestedTensorImpl.cpp:178.)\n",
            "  output = torch._nested_tensor_from_mask(\n"
          ]
        },
        {
          "output_type": "stream",
          "name": "stdout",
          "text": [
            "\n",
            "Epoch 1 Summary:\n",
            "Time: 4229.4s\n",
            "Training Metrics:\n",
            "  Loss 1: 4.5158, Loss 2: 8.6574\n",
            "  Accuracy 1: 0.0555, Accuracy 2: 0.0000\n",
            "Validation Metrics:\n",
            "  Loss 1: 8.1461, Loss 2: 8.0800\n",
            "  Accuracy 1: 0.0916, Accuracy 2: 0.1144\n",
            "  BLEU 1: 0.0000, BLEU 2: 0.0022\n",
            "  CER 1: 0.9240, CER 2: 1.4266\n",
            "  WER 1: 1.8609, WER 2: 2.7116\n",
            "New best model saved!\n",
            "\n",
            "============================================================\n",
            "Epoch 2/2\n",
            "============================================================\n"
          ]
        },
        {
          "output_type": "stream",
          "name": "stderr",
          "text": [
            "Training: 100it [00:51,  1.76it/s, loss_1=8.1115, loss_2=8.1902, acc_1=0.0915, acc_2=0.1050, lr=5.55e-08, ppl_1=3332.61, ppl_2=3605.34]"
          ]
        },
        {
          "output_type": "stream",
          "name": "stdout",
          "text": [
            "\n",
            "Step 12664, Batch 100/12000\n",
            "Loss 1: 8.1746, Accuracy: 0.0914\n",
            "Loss 2: 8.1201, Accuracy: 0.0000\n",
            "Learning Rate: 5.55e-08\n"
          ]
        },
        {
          "output_type": "stream",
          "name": "stderr",
          "text": [
            "Training: 200it [01:43,  1.61it/s, loss_1=8.2250, loss_2=8.0854, acc_1=0.0815, acc_2=0.1143, lr=5.51e-08, ppl_1=3733.01, ppl_2=3246.59]"
          ]
        },
        {
          "output_type": "stream",
          "name": "stdout",
          "text": [
            "\n",
            "Step 12864, Batch 200/12000\n",
            "Loss 1: 8.1716, Accuracy: 0.0920\n",
            "Loss 2: 8.1182, Accuracy: 0.0000\n",
            "Learning Rate: 5.51e-08\n"
          ]
        },
        {
          "output_type": "stream",
          "name": "stderr",
          "text": [
            "Training: 300it [02:37,  1.73it/s, loss_1=8.1492, loss_2=8.1272, acc_1=0.0940, acc_2=0.1006, lr=5.47e-08, ppl_1=3460.51, ppl_2=3385.34]"
          ]
        },
        {
          "output_type": "stream",
          "name": "stdout",
          "text": [
            "\n",
            "Step 13064, Batch 300/12000\n",
            "Loss 1: 8.1691, Accuracy: 0.0921\n",
            "Loss 2: 8.1151, Accuracy: 0.0000\n",
            "Learning Rate: 5.47e-08\n"
          ]
        },
        {
          "output_type": "stream",
          "name": "stderr",
          "text": [
            "Training: 400it [03:30,  1.95it/s, loss_1=8.1645, loss_2=8.0601, acc_1=0.0961, acc_2=0.1269, lr=5.43e-08, ppl_1=3513.97, ppl_2=3165.51]"
          ]
        },
        {
          "output_type": "stream",
          "name": "stdout",
          "text": [
            "\n",
            "Step 13264, Batch 400/12000\n",
            "Loss 1: 8.1665, Accuracy: 0.0919\n",
            "Loss 2: 8.1095, Accuracy: 0.0000\n",
            "Learning Rate: 5.43e-08\n"
          ]
        },
        {
          "output_type": "stream",
          "name": "stderr",
          "text": [
            "Training: 500it [04:22,  2.12it/s, loss_1=8.0494, loss_2=8.0685, acc_1=0.1051, acc_2=0.1163, lr=5.39e-08, ppl_1=3131.82, ppl_2=3192.34]"
          ]
        },
        {
          "output_type": "stream",
          "name": "stdout",
          "text": [
            "\n",
            "Step 13464, Batch 500/12000\n",
            "Loss 1: 8.1622, Accuracy: 0.0919\n",
            "Loss 2: 8.1075, Accuracy: 0.0000\n",
            "Learning Rate: 5.39e-08\n"
          ]
        },
        {
          "output_type": "stream",
          "name": "stderr",
          "text": [
            "Training: 600it [05:15,  1.66it/s, loss_1=8.1752, loss_2=8.0659, acc_1=0.0968, acc_2=0.1085, lr=5.35e-08, ppl_1=3551.85, ppl_2=3183.91]"
          ]
        },
        {
          "output_type": "stream",
          "name": "stdout",
          "text": [
            "\n",
            "Step 13664, Batch 600/12000\n",
            "Loss 1: 8.1574, Accuracy: 0.0917\n",
            "Loss 2: 8.1034, Accuracy: 0.0000\n",
            "Learning Rate: 5.35e-08\n"
          ]
        },
        {
          "output_type": "stream",
          "name": "stderr",
          "text": [
            "Training: 700it [06:09,  1.83it/s, loss_1=8.0767, loss_2=8.0987, acc_1=0.0992, acc_2=0.1108, lr=5.31e-08, ppl_1=3218.62, ppl_2=3290.16]"
          ]
        },
        {
          "output_type": "stream",
          "name": "stdout",
          "text": [
            "\n",
            "Step 13864, Batch 700/12000\n",
            "Loss 1: 8.1547, Accuracy: 0.0917\n",
            "Loss 2: 8.0984, Accuracy: 0.0000\n",
            "Learning Rate: 5.31e-08\n"
          ]
        },
        {
          "output_type": "stream",
          "name": "stderr",
          "text": [
            "Training: 800it [07:03,  1.88it/s, loss_1=8.1928, loss_2=8.0321, acc_1=0.0861, acc_2=0.1009, lr=5.27e-08, ppl_1=3614.80, ppl_2=3078.33]"
          ]
        },
        {
          "output_type": "stream",
          "name": "stdout",
          "text": [
            "\n",
            "Step 14064, Batch 800/12000\n",
            "Loss 1: 8.1510, Accuracy: 0.0917\n",
            "Loss 2: 8.0925, Accuracy: 0.0000\n",
            "Learning Rate: 5.27e-08\n"
          ]
        },
        {
          "output_type": "stream",
          "name": "stderr",
          "text": [
            "Training: 900it [07:56,  2.17it/s, loss_1=8.1291, loss_2=8.0926, acc_1=0.0914, acc_2=0.1124, lr=5.23e-08, ppl_1=3391.59, ppl_2=3270.10]"
          ]
        },
        {
          "output_type": "stream",
          "name": "stdout",
          "text": [
            "\n",
            "Step 14264, Batch 900/12000\n",
            "Loss 1: 8.1473, Accuracy: 0.0918\n",
            "Loss 2: 8.0889, Accuracy: 0.0000\n",
            "Learning Rate: 5.23e-08\n"
          ]
        },
        {
          "output_type": "stream",
          "name": "stderr",
          "text": [
            "Training: 1000it [08:49,  1.95it/s, loss_1=8.1011, loss_2=8.0731, acc_1=0.0943, acc_2=0.1109, lr=5.20e-08, ppl_1=3297.99, ppl_2=3206.99]"
          ]
        },
        {
          "output_type": "stream",
          "name": "stdout",
          "text": [
            "\n",
            "Step 14464, Batch 1000/12000\n",
            "Loss 1: 8.1443, Accuracy: 0.0918\n",
            "Loss 2: 8.0851, Accuracy: 0.0000\n",
            "Learning Rate: 5.20e-08\n"
          ]
        },
        {
          "output_type": "stream",
          "name": "stderr",
          "text": [
            "Training: 1100it [09:41,  1.70it/s, loss_1=8.1212, loss_2=8.0770, acc_1=0.0877, acc_2=0.1106, lr=5.16e-08, ppl_1=3364.92, ppl_2=3219.66]"
          ]
        },
        {
          "output_type": "stream",
          "name": "stdout",
          "text": [
            "\n",
            "Step 14664, Batch 1100/12000\n",
            "Loss 1: 8.1393, Accuracy: 0.0919\n",
            "Loss 2: 8.0801, Accuracy: 0.0000\n",
            "Learning Rate: 5.16e-08\n"
          ]
        },
        {
          "output_type": "stream",
          "name": "stderr",
          "text": [
            "Training: 1200it [10:34,  2.05it/s, loss_1=8.0750, loss_2=7.9842, acc_1=0.0903, acc_2=0.1384, lr=5.13e-08, ppl_1=3213.14, ppl_2=2934.30]"
          ]
        },
        {
          "output_type": "stream",
          "name": "stdout",
          "text": [
            "\n",
            "Step 14864, Batch 1200/12000\n",
            "Loss 1: 8.1365, Accuracy: 0.0918\n",
            "Loss 2: 8.0768, Accuracy: 0.0000\n",
            "Learning Rate: 5.13e-08\n"
          ]
        },
        {
          "output_type": "stream",
          "name": "stderr",
          "text": [
            "Training: 1300it [11:28,  1.95it/s, loss_1=8.0293, loss_2=7.9505, acc_1=0.0974, acc_2=0.1368, lr=5.09e-08, ppl_1=3069.63, ppl_2=2836.94]"
          ]
        },
        {
          "output_type": "stream",
          "name": "stdout",
          "text": [
            "\n",
            "Step 15064, Batch 1300/12000\n",
            "Loss 1: 8.1327, Accuracy: 0.0918\n",
            "Loss 2: 8.0739, Accuracy: 0.0000\n",
            "Learning Rate: 5.09e-08\n"
          ]
        },
        {
          "output_type": "stream",
          "name": "stderr",
          "text": [
            "Training: 1400it [12:20,  1.88it/s, loss_1=8.0201, loss_2=8.1024, acc_1=0.0942, acc_2=0.1147, lr=5.06e-08, ppl_1=3041.36, ppl_2=3302.28]"
          ]
        },
        {
          "output_type": "stream",
          "name": "stdout",
          "text": [
            "\n",
            "Step 15264, Batch 1400/12000\n",
            "Loss 1: 8.1292, Accuracy: 0.0918\n",
            "Loss 2: 8.0708, Accuracy: 0.0000\n",
            "Learning Rate: 5.06e-08\n"
          ]
        },
        {
          "output_type": "stream",
          "name": "stderr",
          "text": [
            "Training: 1500it [13:13,  1.85it/s, loss_1=8.1015, loss_2=8.0331, acc_1=0.0955, acc_2=0.1239, lr=5.03e-08, ppl_1=3299.36, ppl_2=3081.29]"
          ]
        },
        {
          "output_type": "stream",
          "name": "stdout",
          "text": [
            "\n",
            "Step 15464, Batch 1500/12000\n",
            "Loss 1: 8.1258, Accuracy: 0.0918\n",
            "Loss 2: 8.0673, Accuracy: 0.0000\n",
            "Learning Rate: 5.03e-08\n"
          ]
        },
        {
          "output_type": "stream",
          "name": "stderr",
          "text": [
            "Training: 1600it [14:06,  1.93it/s, loss_1=8.1582, loss_2=8.0549, acc_1=0.0910, acc_2=0.1132, lr=4.99e-08, ppl_1=3491.86, ppl_2=3149.25]"
          ]
        },
        {
          "output_type": "stream",
          "name": "stdout",
          "text": [
            "\n",
            "Step 15664, Batch 1600/12000\n",
            "Loss 1: 8.1231, Accuracy: 0.0918\n",
            "Loss 2: 8.0645, Accuracy: 0.0000\n",
            "Learning Rate: 4.99e-08\n"
          ]
        },
        {
          "output_type": "stream",
          "name": "stderr",
          "text": [
            "Training: 1700it [14:58,  1.83it/s, loss_1=8.0372, loss_2=7.9407, acc_1=0.0998, acc_2=0.1305, lr=4.96e-08, ppl_1=3093.97, ppl_2=2809.24]"
          ]
        },
        {
          "output_type": "stream",
          "name": "stdout",
          "text": [
            "\n",
            "Step 15864, Batch 1700/12000\n",
            "Loss 1: 8.1198, Accuracy: 0.0918\n",
            "Loss 2: 8.0610, Accuracy: 0.0000\n",
            "Learning Rate: 4.96e-08\n"
          ]
        },
        {
          "output_type": "stream",
          "name": "stderr",
          "text": [
            "Training: 1800it [15:51,  1.95it/s, loss_1=8.0240, loss_2=7.8191, acc_1=0.1001, acc_2=0.1762, lr=4.93e-08, ppl_1=3053.36, ppl_2=2487.78]"
          ]
        },
        {
          "output_type": "stream",
          "name": "stdout",
          "text": [
            "\n",
            "Step 16064, Batch 1800/12000\n",
            "Loss 1: 8.1163, Accuracy: 0.0918\n",
            "Loss 2: 8.0580, Accuracy: 0.0000\n",
            "Learning Rate: 4.93e-08\n"
          ]
        },
        {
          "output_type": "stream",
          "name": "stderr",
          "text": [
            "Training: 1900it [16:44,  2.11it/s, loss_1=8.0489, loss_2=7.8640, acc_1=0.0948, acc_2=0.1564, lr=4.90e-08, ppl_1=3130.26, ppl_2=2601.91]"
          ]
        },
        {
          "output_type": "stream",
          "name": "stdout",
          "text": [
            "\n",
            "Step 16264, Batch 1900/12000\n",
            "Loss 1: 8.1129, Accuracy: 0.0919\n",
            "Loss 2: 8.0541, Accuracy: 0.0000\n",
            "Learning Rate: 4.90e-08\n"
          ]
        },
        {
          "output_type": "stream",
          "name": "stderr",
          "text": [
            "Training: 2000it [17:36,  2.08it/s, loss_1=7.9662, loss_2=8.0069, acc_1=0.0887, acc_2=0.1233, lr=4.87e-08, ppl_1=2881.85, ppl_2=3001.68]"
          ]
        },
        {
          "output_type": "stream",
          "name": "stdout",
          "text": [
            "\n",
            "Step 16464, Batch 2000/12000\n",
            "Loss 1: 8.1099, Accuracy: 0.0919\n",
            "Loss 2: 8.0505, Accuracy: 0.0000\n",
            "Learning Rate: 4.87e-08\n"
          ]
        },
        {
          "output_type": "stream",
          "name": "stderr",
          "text": [
            "Training: 2100it [18:30,  1.97it/s, loss_1=8.0491, loss_2=8.0467, acc_1=0.0982, acc_2=0.1186, lr=4.84e-08, ppl_1=3130.87, ppl_2=3123.40]"
          ]
        },
        {
          "output_type": "stream",
          "name": "stdout",
          "text": [
            "\n",
            "Step 16664, Batch 2100/12000\n",
            "Loss 1: 8.1064, Accuracy: 0.0919\n",
            "Loss 2: 8.0469, Accuracy: 0.0000\n",
            "Learning Rate: 4.84e-08\n"
          ]
        },
        {
          "output_type": "stream",
          "name": "stderr",
          "text": [
            "Training: 2200it [19:22,  2.01it/s, loss_1=8.1693, loss_2=8.1338, acc_1=0.0811, acc_2=0.1110, lr=4.81e-08, ppl_1=3530.98, ppl_2=3407.74]"
          ]
        },
        {
          "output_type": "stream",
          "name": "stdout",
          "text": [
            "\n",
            "Step 16864, Batch 2200/12000\n",
            "Loss 1: 8.1033, Accuracy: 0.0919\n",
            "Loss 2: 8.0440, Accuracy: 0.0000\n",
            "Learning Rate: 4.81e-08\n"
          ]
        },
        {
          "output_type": "stream",
          "name": "stderr",
          "text": [
            "Training: 2300it [20:15,  1.71it/s, loss_1=7.9798, loss_2=8.0953, acc_1=0.0998, acc_2=0.1178, lr=4.78e-08, ppl_1=2921.28, ppl_2=3278.98]"
          ]
        },
        {
          "output_type": "stream",
          "name": "stdout",
          "text": [
            "\n",
            "Step 17064, Batch 2300/12000\n",
            "Loss 1: 8.1005, Accuracy: 0.0919\n",
            "Loss 2: 8.0407, Accuracy: 0.0000\n",
            "Learning Rate: 4.78e-08\n"
          ]
        },
        {
          "output_type": "stream",
          "name": "stderr",
          "text": [
            "Training: 2400it [21:06,  1.85it/s, loss_1=7.9745, loss_2=7.9131, acc_1=0.0964, acc_2=0.1433, lr=4.76e-08, ppl_1=2906.04, ppl_2=2732.86]"
          ]
        },
        {
          "output_type": "stream",
          "name": "stdout",
          "text": [
            "\n",
            "Step 17264, Batch 2400/12000\n",
            "Loss 1: 8.0972, Accuracy: 0.0919\n",
            "Loss 2: 8.0371, Accuracy: 0.0000\n",
            "Learning Rate: 4.76e-08\n"
          ]
        },
        {
          "output_type": "stream",
          "name": "stderr",
          "text": [
            "Training: 2500it [22:00,  1.60it/s, loss_1=7.9695, loss_2=7.9776, acc_1=0.0950, acc_2=0.1262, lr=4.73e-08, ppl_1=2891.40, ppl_2=2914.96]"
          ]
        },
        {
          "output_type": "stream",
          "name": "stdout",
          "text": [
            "\n",
            "Step 17464, Batch 2500/12000\n",
            "Loss 1: 8.0941, Accuracy: 0.0919\n",
            "Loss 2: 8.0343, Accuracy: 0.0000\n",
            "Learning Rate: 4.73e-08\n"
          ]
        },
        {
          "output_type": "stream",
          "name": "stderr",
          "text": [
            "Training: 2600it [22:54,  2.22it/s, loss_1=8.0077, loss_2=7.9772, acc_1=0.0867, acc_2=0.1335, lr=4.70e-08, ppl_1=3004.12, ppl_2=2913.66]"
          ]
        },
        {
          "output_type": "stream",
          "name": "stdout",
          "text": [
            "\n",
            "Step 17664, Batch 2600/12000\n",
            "Loss 1: 8.0912, Accuracy: 0.0919\n",
            "Loss 2: 8.0314, Accuracy: 0.0000\n",
            "Learning Rate: 4.70e-08\n"
          ]
        },
        {
          "output_type": "stream",
          "name": "stderr",
          "text": [
            "Training: 2700it [23:44,  2.25it/s, loss_1=8.0644, loss_2=7.8073, acc_1=0.0921, acc_2=0.1722, lr=4.68e-08, ppl_1=3179.20, ppl_2=2458.38]"
          ]
        },
        {
          "output_type": "stream",
          "name": "stdout",
          "text": [
            "\n",
            "Step 17864, Batch 2700/12000\n",
            "Loss 1: 8.0884, Accuracy: 0.0919\n",
            "Loss 2: 8.0276, Accuracy: 0.0000\n",
            "Learning Rate: 4.68e-08\n"
          ]
        },
        {
          "output_type": "stream",
          "name": "stderr",
          "text": [
            "Training: 2800it [24:37,  1.93it/s, loss_1=8.0455, loss_2=7.8995, acc_1=0.0862, acc_2=0.1609, lr=4.65e-08, ppl_1=3119.77, ppl_2=2695.87]"
          ]
        },
        {
          "output_type": "stream",
          "name": "stdout",
          "text": [
            "\n",
            "Step 18064, Batch 2800/12000\n",
            "Loss 1: 8.0857, Accuracy: 0.0919\n",
            "Loss 2: 8.0243, Accuracy: 0.0000\n",
            "Learning Rate: 4.65e-08\n"
          ]
        },
        {
          "output_type": "stream",
          "name": "stderr",
          "text": [
            "Training: 2900it [25:31,  1.84it/s, loss_1=8.0670, loss_2=7.8195, acc_1=0.0846, acc_2=0.1651, lr=4.62e-08, ppl_1=3187.63, ppl_2=2488.67]"
          ]
        },
        {
          "output_type": "stream",
          "name": "stdout",
          "text": [
            "\n",
            "Step 18264, Batch 2900/12000\n",
            "Loss 1: 8.0833, Accuracy: 0.0919\n",
            "Loss 2: 8.0209, Accuracy: 0.0000\n",
            "Learning Rate: 4.62e-08\n"
          ]
        },
        {
          "output_type": "stream",
          "name": "stderr",
          "text": [
            "Training: 3000it [26:25,  1.70it/s, loss_1=7.9772, loss_2=7.9774, acc_1=0.0946, acc_2=0.1196, lr=4.60e-08, ppl_1=2913.75, ppl_2=2914.23]"
          ]
        },
        {
          "output_type": "stream",
          "name": "stdout",
          "text": [
            "\n",
            "Step 18464, Batch 3000/12000\n",
            "Loss 1: 8.0805, Accuracy: 0.0919\n",
            "Loss 2: 8.0179, Accuracy: 0.0000\n",
            "Learning Rate: 4.60e-08\n"
          ]
        },
        {
          "output_type": "stream",
          "name": "stderr",
          "text": [
            "Training: 3100it [27:18,  1.98it/s, loss_1=8.0479, loss_2=7.7560, acc_1=0.0921, acc_2=0.2062, lr=4.57e-08, ppl_1=3127.25, ppl_2=2335.50]"
          ]
        },
        {
          "output_type": "stream",
          "name": "stdout",
          "text": [
            "\n",
            "Step 18664, Batch 3100/12000\n",
            "Loss 1: 8.0777, Accuracy: 0.0919\n",
            "Loss 2: 8.0149, Accuracy: 0.0000\n",
            "Learning Rate: 4.57e-08\n"
          ]
        },
        {
          "output_type": "stream",
          "name": "stderr",
          "text": [
            "Training: 3200it [28:11,  1.86it/s, loss_1=7.8261, loss_2=7.7815, acc_1=0.1071, acc_2=0.1750, lr=4.55e-08, ppl_1=2505.10, ppl_2=2395.81]"
          ]
        },
        {
          "output_type": "stream",
          "name": "stdout",
          "text": [
            "\n",
            "Step 18864, Batch 3200/12000\n",
            "Loss 1: 8.0750, Accuracy: 0.0919\n",
            "Loss 2: 8.0115, Accuracy: 0.0000\n",
            "Learning Rate: 4.55e-08\n"
          ]
        },
        {
          "output_type": "stream",
          "name": "stderr",
          "text": [
            "Training: 3300it [29:06,  1.63it/s, loss_1=8.0077, loss_2=7.9187, acc_1=0.0867, acc_2=0.1337, lr=4.53e-08, ppl_1=3004.05, ppl_2=2748.31]"
          ]
        },
        {
          "output_type": "stream",
          "name": "stdout",
          "text": [
            "\n",
            "Step 19064, Batch 3300/12000\n",
            "Loss 1: 8.0721, Accuracy: 0.0919\n",
            "Loss 2: 8.0086, Accuracy: 0.0000\n",
            "Learning Rate: 4.53e-08\n"
          ]
        },
        {
          "output_type": "stream",
          "name": "stderr",
          "text": [
            "Training: 3400it [29:59,  1.82it/s, loss_1=7.9392, loss_2=8.0038, acc_1=0.0864, acc_2=0.1156, lr=4.50e-08, ppl_1=2805.04, ppl_2=2992.20]"
          ]
        },
        {
          "output_type": "stream",
          "name": "stdout",
          "text": [
            "\n",
            "Step 19264, Batch 3400/12000\n",
            "Loss 1: 8.0693, Accuracy: 0.0920\n",
            "Loss 2: 8.0053, Accuracy: 0.0000\n",
            "Learning Rate: 4.50e-08\n"
          ]
        },
        {
          "output_type": "stream",
          "name": "stderr",
          "text": [
            "Training: 3500it [30:52,  1.92it/s, loss_1=7.8802, loss_2=7.8980, acc_1=0.1057, acc_2=0.1442, lr=4.48e-08, ppl_1=2644.39, ppl_2=2691.94]"
          ]
        },
        {
          "output_type": "stream",
          "name": "stdout",
          "text": [
            "\n",
            "Step 19464, Batch 3500/12000\n",
            "Loss 1: 8.0665, Accuracy: 0.0920\n",
            "Loss 2: 8.0022, Accuracy: 0.0000\n",
            "Learning Rate: 4.48e-08\n"
          ]
        },
        {
          "output_type": "stream",
          "name": "stderr",
          "text": [
            "Training: 3600it [31:47,  1.70it/s, loss_1=8.0163, loss_2=7.9682, acc_1=0.0869, acc_2=0.1401, lr=4.46e-08, ppl_1=3029.90, ppl_2=2887.73]"
          ]
        },
        {
          "output_type": "stream",
          "name": "stdout",
          "text": [
            "\n",
            "Step 19664, Batch 3600/12000\n",
            "Loss 1: 8.0639, Accuracy: 0.0920\n",
            "Loss 2: 7.9997, Accuracy: 0.0000\n",
            "Learning Rate: 4.46e-08\n"
          ]
        },
        {
          "output_type": "stream",
          "name": "stderr",
          "text": [
            "Training: 3700it [32:42,  1.93it/s, loss_1=7.9231, loss_2=7.8869, acc_1=0.1073, acc_2=0.1777, lr=4.43e-08, ppl_1=2760.28, ppl_2=2662.10]"
          ]
        },
        {
          "output_type": "stream",
          "name": "stdout",
          "text": [
            "\n",
            "Step 19864, Batch 3700/12000\n",
            "Loss 1: 8.0607, Accuracy: 0.0920\n",
            "Loss 2: 7.9967, Accuracy: 0.0000\n",
            "Learning Rate: 4.43e-08\n"
          ]
        },
        {
          "output_type": "stream",
          "name": "stderr",
          "text": [
            "Training: 3800it [33:35,  1.83it/s, loss_1=7.9146, loss_2=7.9250, acc_1=0.0894, acc_2=0.1555, lr=4.41e-08, ppl_1=2736.94, ppl_2=2765.68]"
          ]
        },
        {
          "output_type": "stream",
          "name": "stdout",
          "text": [
            "\n",
            "Step 20064, Batch 3800/12000\n",
            "Loss 1: 8.0581, Accuracy: 0.0920\n",
            "Loss 2: 7.9942, Accuracy: 0.0000\n",
            "Learning Rate: 4.41e-08\n"
          ]
        },
        {
          "output_type": "stream",
          "name": "stderr",
          "text": [
            "Training: 3900it [34:31,  1.68it/s, loss_1=8.0880, loss_2=7.7812, acc_1=0.0761, acc_2=0.1792, lr=4.39e-08, ppl_1=3255.07, ppl_2=2395.16]"
          ]
        },
        {
          "output_type": "stream",
          "name": "stdout",
          "text": [
            "\n",
            "Step 20264, Batch 3900/12000\n",
            "Loss 1: 8.0556, Accuracy: 0.0920\n",
            "Loss 2: 7.9914, Accuracy: 0.0000\n",
            "Learning Rate: 4.39e-08\n"
          ]
        },
        {
          "output_type": "stream",
          "name": "stderr",
          "text": [
            "Training: 4000it [35:24,  1.87it/s, loss_1=7.9433, loss_2=7.8636, acc_1=0.0961, acc_2=0.1822, lr=4.37e-08, ppl_1=2816.76, ppl_2=2600.84]"
          ]
        },
        {
          "output_type": "stream",
          "name": "stdout",
          "text": [
            "\n",
            "Step 20464, Batch 4000/12000\n",
            "Loss 1: 8.0534, Accuracy: 0.0920\n",
            "Loss 2: 7.9886, Accuracy: 0.0000\n",
            "Learning Rate: 4.37e-08\n"
          ]
        },
        {
          "output_type": "stream",
          "name": "stderr",
          "text": [
            "Training: 4100it [36:21,  1.98it/s, loss_1=7.9842, loss_2=7.9212, acc_1=0.0903, acc_2=0.1484, lr=4.35e-08, ppl_1=2934.09, ppl_2=2755.04]"
          ]
        },
        {
          "output_type": "stream",
          "name": "stdout",
          "text": [
            "\n",
            "Step 20664, Batch 4100/12000\n",
            "Loss 1: 8.0507, Accuracy: 0.0920\n",
            "Loss 2: 7.9861, Accuracy: 0.0000\n",
            "Learning Rate: 4.35e-08\n"
          ]
        },
        {
          "output_type": "stream",
          "name": "stderr",
          "text": [
            "Training: 4200it [37:14,  1.76it/s, loss_1=7.9470, loss_2=7.8127, acc_1=0.0895, acc_2=0.1824, lr=4.33e-08, ppl_1=2827.20, ppl_2=2471.68]"
          ]
        },
        {
          "output_type": "stream",
          "name": "stdout",
          "text": [
            "\n",
            "Step 20864, Batch 4200/12000\n",
            "Loss 1: 8.0483, Accuracy: 0.0919\n",
            "Loss 2: 7.9833, Accuracy: 0.0000\n",
            "Learning Rate: 4.33e-08\n"
          ]
        },
        {
          "output_type": "stream",
          "name": "stderr",
          "text": [
            "Training: 4300it [38:06,  1.96it/s, loss_1=7.8768, loss_2=7.7438, acc_1=0.0955, acc_2=0.1940, lr=4.31e-08, ppl_1=2635.45, ppl_2=2307.24]"
          ]
        },
        {
          "output_type": "stream",
          "name": "stdout",
          "text": [
            "\n",
            "Step 21064, Batch 4300/12000\n",
            "Loss 1: 8.0457, Accuracy: 0.0920\n",
            "Loss 2: 7.9806, Accuracy: 0.0000\n",
            "Learning Rate: 4.31e-08\n"
          ]
        },
        {
          "output_type": "stream",
          "name": "stderr",
          "text": [
            "Training: 4400it [39:00,  1.88it/s, loss_1=7.9292, loss_2=7.7164, acc_1=0.0970, acc_2=0.2102, lr=4.29e-08, ppl_1=2777.17, ppl_2=2244.81]"
          ]
        },
        {
          "output_type": "stream",
          "name": "stdout",
          "text": [
            "\n",
            "Step 21264, Batch 4400/12000\n",
            "Loss 1: 8.0434, Accuracy: 0.0919\n",
            "Loss 2: 7.9780, Accuracy: 0.0000\n",
            "Learning Rate: 4.29e-08\n"
          ]
        },
        {
          "output_type": "stream",
          "name": "stderr",
          "text": [
            "Training: 4500it [39:55,  1.93it/s, loss_1=8.0290, loss_2=7.8738, acc_1=0.0827, acc_2=0.1654, lr=4.27e-08, ppl_1=3068.67, ppl_2=2627.63]"
          ]
        },
        {
          "output_type": "stream",
          "name": "stdout",
          "text": [
            "\n",
            "Step 21464, Batch 4500/12000\n",
            "Loss 1: 8.0410, Accuracy: 0.0919\n",
            "Loss 2: 7.9753, Accuracy: 0.0000\n",
            "Learning Rate: 4.27e-08\n"
          ]
        },
        {
          "output_type": "stream",
          "name": "stderr",
          "text": [
            "Training: 4600it [40:47,  1.70it/s, loss_1=7.9219, loss_2=7.8071, acc_1=0.0882, acc_2=0.1846, lr=4.25e-08, ppl_1=2757.09, ppl_2=2458.08]"
          ]
        },
        {
          "output_type": "stream",
          "name": "stdout",
          "text": [
            "\n",
            "Step 21664, Batch 4600/12000\n",
            "Loss 1: 8.0384, Accuracy: 0.0919\n",
            "Loss 2: 7.9726, Accuracy: 0.0000\n",
            "Learning Rate: 4.25e-08\n"
          ]
        },
        {
          "output_type": "stream",
          "name": "stderr",
          "text": [
            "Training: 4700it [41:41,  1.67it/s, loss_1=7.9305, loss_2=7.8090, acc_1=0.0940, acc_2=0.1824, lr=4.23e-08, ppl_1=2780.84, ppl_2=2462.64]"
          ]
        },
        {
          "output_type": "stream",
          "name": "stdout",
          "text": [
            "\n",
            "Step 21864, Batch 4700/12000\n",
            "Loss 1: 8.0362, Accuracy: 0.0919\n",
            "Loss 2: 7.9699, Accuracy: 0.0000\n",
            "Learning Rate: 4.23e-08\n"
          ]
        },
        {
          "output_type": "stream",
          "name": "stderr",
          "text": [
            "Training: 4800it [42:35,  1.86it/s, loss_1=7.9563, loss_2=7.7836, acc_1=0.0889, acc_2=0.1922, lr=4.21e-08, ppl_1=2853.45, ppl_2=2400.94]"
          ]
        },
        {
          "output_type": "stream",
          "name": "stdout",
          "text": [
            "\n",
            "Step 22064, Batch 4800/12000\n",
            "Loss 1: 8.0340, Accuracy: 0.0919\n",
            "Loss 2: 7.9673, Accuracy: 0.0000\n",
            "Learning Rate: 4.21e-08\n"
          ]
        },
        {
          "output_type": "stream",
          "name": "stderr",
          "text": [
            "Training: 4900it [43:30,  1.66it/s, loss_1=8.0125, loss_2=7.7646, acc_1=0.0805, acc_2=0.1965, lr=4.19e-08, ppl_1=3018.43, ppl_2=2355.66]"
          ]
        },
        {
          "output_type": "stream",
          "name": "stdout",
          "text": [
            "\n",
            "Step 22264, Batch 4900/12000\n",
            "Loss 1: 8.0319, Accuracy: 0.0919\n",
            "Loss 2: 7.9648, Accuracy: 0.0000\n",
            "Learning Rate: 4.19e-08\n"
          ]
        },
        {
          "output_type": "stream",
          "name": "stderr",
          "text": [
            "Training: 5000it [44:21,  2.15it/s, loss_1=8.0031, loss_2=7.6272, acc_1=0.0888, acc_2=0.2471, lr=4.17e-08, ppl_1=2990.29, ppl_2=2053.33]"
          ]
        },
        {
          "output_type": "stream",
          "name": "stdout",
          "text": [
            "\n",
            "Step 22464, Batch 5000/12000\n",
            "Loss 1: 8.0296, Accuracy: 0.0919\n",
            "Loss 2: 7.9619, Accuracy: 0.0000\n",
            "Learning Rate: 4.17e-08\n"
          ]
        },
        {
          "output_type": "stream",
          "name": "stderr",
          "text": [
            "Training: 5100it [45:14,  1.76it/s, loss_1=7.7536, loss_2=7.9867, acc_1=0.1021, acc_2=0.1453, lr=4.15e-08, ppl_1=2330.05, ppl_2=2941.64]"
          ]
        },
        {
          "output_type": "stream",
          "name": "stdout",
          "text": [
            "\n",
            "Step 22664, Batch 5100/12000\n",
            "Loss 1: 8.0270, Accuracy: 0.0919\n",
            "Loss 2: 7.9592, Accuracy: 0.0000\n",
            "Learning Rate: 4.15e-08\n"
          ]
        },
        {
          "output_type": "stream",
          "name": "stderr",
          "text": [
            "Training: 5200it [46:08,  1.65it/s, loss_1=7.9555, loss_2=7.9346, acc_1=0.0870, acc_2=0.1482, lr=4.13e-08, ppl_1=2851.33, ppl_2=2792.26]"
          ]
        },
        {
          "output_type": "stream",
          "name": "stdout",
          "text": [
            "\n",
            "Step 22864, Batch 5200/12000\n",
            "Loss 1: 8.0246, Accuracy: 0.0920\n",
            "Loss 2: 7.9566, Accuracy: 0.0000\n",
            "Learning Rate: 4.13e-08\n"
          ]
        },
        {
          "output_type": "stream",
          "name": "stderr",
          "text": [
            "Training: 5300it [47:01,  2.15it/s, loss_1=7.9134, loss_2=7.6976, acc_1=0.0968, acc_2=0.2325, lr=4.12e-08, ppl_1=2733.57, ppl_2=2202.95]"
          ]
        },
        {
          "output_type": "stream",
          "name": "stdout",
          "text": [
            "\n",
            "Step 23064, Batch 5300/12000\n",
            "Loss 1: 8.0223, Accuracy: 0.0919\n",
            "Loss 2: 7.9541, Accuracy: 0.0000\n",
            "Learning Rate: 4.12e-08\n"
          ]
        },
        {
          "output_type": "stream",
          "name": "stderr",
          "text": [
            "Training: 5400it [47:54,  2.06it/s, loss_1=7.8359, loss_2=7.7788, acc_1=0.0899, acc_2=0.1976, lr=4.10e-08, ppl_1=2529.89, ppl_2=2389.52]"
          ]
        },
        {
          "output_type": "stream",
          "name": "stdout",
          "text": [
            "\n",
            "Step 23264, Batch 5400/12000\n",
            "Loss 1: 8.0202, Accuracy: 0.0919\n",
            "Loss 2: 7.9516, Accuracy: 0.0000\n",
            "Learning Rate: 4.10e-08\n"
          ]
        },
        {
          "output_type": "stream",
          "name": "stderr",
          "text": [
            "Training: 5500it [48:46,  1.99it/s, loss_1=7.9729, loss_2=7.9225, acc_1=0.0877, acc_2=0.1486, lr=4.08e-08, ppl_1=2901.15, ppl_2=2758.63]"
          ]
        },
        {
          "output_type": "stream",
          "name": "stdout",
          "text": [
            "\n",
            "Step 23464, Batch 5500/12000\n",
            "Loss 1: 8.0181, Accuracy: 0.0919\n",
            "Loss 2: 7.9488, Accuracy: 0.0000\n",
            "Learning Rate: 4.08e-08\n"
          ]
        },
        {
          "output_type": "stream",
          "name": "stderr",
          "text": [
            "Training: 5600it [49:40,  1.95it/s, loss_1=7.9883, loss_2=7.7635, acc_1=0.0843, acc_2=0.1971, lr=4.06e-08, ppl_1=2946.17, ppl_2=2353.08]"
          ]
        },
        {
          "output_type": "stream",
          "name": "stdout",
          "text": [
            "\n",
            "Step 23664, Batch 5600/12000\n",
            "Loss 1: 8.0160, Accuracy: 0.0919\n",
            "Loss 2: 7.9464, Accuracy: 0.0000\n",
            "Learning Rate: 4.06e-08\n"
          ]
        },
        {
          "output_type": "stream",
          "name": "stderr",
          "text": [
            "Training: 5700it [50:34,  1.77it/s, loss_1=7.9666, loss_2=7.8682, acc_1=0.0875, acc_2=0.1539, lr=4.05e-08, ppl_1=2883.04, ppl_2=2612.92]"
          ]
        },
        {
          "output_type": "stream",
          "name": "stdout",
          "text": [
            "\n",
            "Step 23864, Batch 5700/12000\n",
            "Loss 1: 8.0139, Accuracy: 0.0919\n",
            "Loss 2: 7.9437, Accuracy: 0.0000\n",
            "Learning Rate: 4.05e-08\n"
          ]
        },
        {
          "output_type": "stream",
          "name": "stderr",
          "text": [
            "Training: 5800it [51:28,  1.67it/s, loss_1=7.8957, loss_2=7.7768, acc_1=0.0924, acc_2=0.1989, lr=4.03e-08, ppl_1=2685.80, ppl_2=2384.53]"
          ]
        },
        {
          "output_type": "stream",
          "name": "stdout",
          "text": [
            "\n",
            "Step 24064, Batch 5800/12000\n",
            "Loss 1: 8.0116, Accuracy: 0.0919\n",
            "Loss 2: 7.9410, Accuracy: 0.0000\n",
            "Learning Rate: 4.03e-08\n"
          ]
        },
        {
          "output_type": "stream",
          "name": "stderr",
          "text": [
            "Training: 5900it [52:22,  1.74it/s, loss_1=7.9542, loss_2=7.8376, acc_1=0.0912, acc_2=0.1727, lr=4.01e-08, ppl_1=2847.51, ppl_2=2534.17]"
          ]
        },
        {
          "output_type": "stream",
          "name": "stdout",
          "text": [
            "\n",
            "Step 24264, Batch 5900/12000\n",
            "Loss 1: 8.0095, Accuracy: 0.0919\n",
            "Loss 2: 7.9384, Accuracy: 0.0000\n",
            "Learning Rate: 4.01e-08\n"
          ]
        },
        {
          "output_type": "stream",
          "name": "stderr",
          "text": [
            "Training: 6000it [53:15,  2.02it/s, loss_1=7.8121, loss_2=7.5892, acc_1=0.0931, acc_2=0.2549, lr=4.00e-08, ppl_1=2470.32, ppl_2=1976.79]"
          ]
        },
        {
          "output_type": "stream",
          "name": "stdout",
          "text": [
            "\n",
            "Step 24464, Batch 6000/12000\n",
            "Loss 1: 8.0072, Accuracy: 0.0919\n",
            "Loss 2: 7.9360, Accuracy: 0.0000\n",
            "Learning Rate: 4.00e-08\n"
          ]
        },
        {
          "output_type": "stream",
          "name": "stderr",
          "text": [
            "Training: 6100it [54:08,  1.62it/s, loss_1=7.9064, loss_2=7.8494, acc_1=0.0898, acc_2=0.1706, lr=3.98e-08, ppl_1=2714.71, ppl_2=2564.28]"
          ]
        },
        {
          "output_type": "stream",
          "name": "stdout",
          "text": [
            "\n",
            "Step 24664, Batch 6100/12000\n",
            "Loss 1: 8.0052, Accuracy: 0.0919\n",
            "Loss 2: 7.9336, Accuracy: 0.0000\n",
            "Learning Rate: 3.98e-08\n"
          ]
        },
        {
          "output_type": "stream",
          "name": "stderr",
          "text": [
            "Training: 6200it [55:00,  1.76it/s, loss_1=7.9596, loss_2=7.7910, acc_1=0.0850, acc_2=0.1936, lr=3.96e-08, ppl_1=2862.79, ppl_2=2418.71]"
          ]
        },
        {
          "output_type": "stream",
          "name": "stdout",
          "text": [
            "\n",
            "Step 24864, Batch 6200/12000\n",
            "Loss 1: 8.0030, Accuracy: 0.0919\n",
            "Loss 2: 7.9310, Accuracy: 0.0000\n",
            "Learning Rate: 3.96e-08\n"
          ]
        },
        {
          "output_type": "stream",
          "name": "stderr",
          "text": [
            "Training: 6232it [55:17,  1.88it/s, loss_1=7.9054, loss_2=7.6917, acc_1=0.0920, acc_2=0.2372, lr=3.96e-08, ppl_1=2712.02, ppl_2=2190.11]\n"
          ]
        },
        {
          "output_type": "stream",
          "name": "stdout",
          "text": [
            "\n",
            "Running validation...\n"
          ]
        },
        {
          "output_type": "stream",
          "name": "stderr",
          "text": []
        },
        {
          "output_type": "stream",
          "name": "stdout",
          "text": [
            "\n",
            "Epoch 2 Summary:\n",
            "Time: 4247.4s\n",
            "Training Metrics:\n",
            "  Loss 1: 4.1559, Loss 2: 7.9302\n",
            "  Accuracy 1: 0.0919, Accuracy 2: 0.0000\n",
            "Validation Metrics:\n",
            "  Loss 1: 7.8294, Loss 2: 7.7176\n",
            "  Accuracy 1: 0.0915, Accuracy 2: 0.1990\n",
            "  BLEU 1: 0.0000, BLEU 2: 0.0098\n",
            "  CER 1: 0.9095, CER 2: 1.4271\n",
            "  WER 1: 1.8240, WER 2: 2.6368\n",
            "New best model saved!\n",
            "\n",
            "Training completed!\n"
          ]
        },
        {
          "output_type": "display_data",
          "data": {
            "text/plain": [
              "<Figure size 1200x400 with 2 Axes>"
            ],
            "image/png": "[encoded data removed]"
          },
          "metadata": {}
        },
        {
          "output_type": "display_data",
          "data": {
            "text/plain": [
              "<Figure size 1200x400 with 2 Axes>"
            ],
            "image/png": "[encoded data removed]"
          },
          "metadata": {}
        }
      ]
    },
    {
      "cell_type": "code",
      "source": [],
      "metadata": {
        "id": "VN_MuqaHxmjb"
      },
      "execution_count": null,
      "outputs": []
    }
  ]
}